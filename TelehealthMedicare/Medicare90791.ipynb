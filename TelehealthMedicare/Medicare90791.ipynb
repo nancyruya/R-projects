{
 "cells": [
  {
   "cell_type": "code",
   "execution_count": 20,
   "metadata": {},
   "outputs": [
    {
     "name": "stderr",
     "output_type": "stream",
     "text": [
      "Updating HTML index of packages in '.Library'\n",
      "Making 'packages.html' ... done\n"
     ]
    }
   ],
   "source": [
    "install.packages(\"dplyr\")"
   ]
  },
  {
   "cell_type": "code",
   "execution_count": 2,
   "metadata": {},
   "outputs": [
    {
     "name": "stderr",
     "output_type": "stream",
     "text": [
      "Updating HTML index of packages in '.Library'\n",
      "Making 'packages.html' ... done\n"
     ]
    }
   ],
   "source": [
    "install.packages(\"usmap\")"
   ]
  },
  {
   "cell_type": "code",
   "execution_count": 1,
   "metadata": {},
   "outputs": [
    {
     "name": "stderr",
     "output_type": "stream",
     "text": [
      "Updating HTML index of packages in '.Library'\n",
      "Making 'packages.html' ... done\n"
     ]
    }
   ],
   "source": [
    "install.packages(\"ggplot2\")"
   ]
  },
  {
   "cell_type": "code",
   "execution_count": 56,
   "metadata": {},
   "outputs": [],
   "source": [
    "#install.packages(\"ggmap\", repos='https://cran.r-project.org')\n",
    "#install.packages(\"geomapdata\", repos='https://cran.r-project.org')\n",
    "#maps"
   ]
  },
  {
   "cell_type": "code",
   "execution_count": 55,
   "metadata": {},
   "outputs": [],
   "source": [
    "#library(maps)\n",
    "#library(geomapdata)\n",
    "#library(ggmap)"
   ]
  },
  {
   "cell_type": "code",
   "execution_count": 4,
   "metadata": {},
   "outputs": [],
   "source": [
    "library(usmap)"
   ]
  },
  {
   "cell_type": "code",
   "execution_count": 3,
   "metadata": {},
   "outputs": [],
   "source": [
    "library(ggplot2)"
   ]
  },
  {
   "cell_type": "code",
   "execution_count": 24,
   "metadata": {},
   "outputs": [],
   "source": [
    "library(dplyr)"
   ]
  },
  {
   "cell_type": "code",
   "execution_count": 25,
   "metadata": {},
   "outputs": [],
   "source": [
    "setwd (\"/Users/ruyazhang/downloads\")"
   ]
  },
  {
   "cell_type": "code",
   "execution_count": 26,
   "metadata": {},
   "outputs": [],
   "source": [
    "dat1 <- read.csv(\"Medicare90791.csv\")"
   ]
  },
  {
   "cell_type": "code",
   "execution_count": 27,
   "metadata": {},
   "outputs": [],
   "source": [
    "#To look at below idenfied 5 columns in sum\n",
    "medicare1 <- dat1[,c(\"State\", \"Gender\", \"Credentials\", \"City\", \"ProviderType\")]"
   ]
  },
  {
   "cell_type": "code",
   "execution_count": 28,
   "metadata": {},
   "outputs": [
    {
     "data": {
      "text/plain": [
       " State     Gender                  Credentials                 City      \n",
       " AE:   2   F:11240   LCSW                :3107   NEW YORK        :  179  \n",
       " AK:  20   M: 6281   PH.D.               :2657   SAN ANTONIO     :  153  \n",
       " AL: 135             PHD                 :1893   BROOKLYN        :  145  \n",
       " AR: 205             PSY.D.              :1228   CHICAGO         :  138  \n",
       " AZ: 228                                 :1122   LOS ANGELES     :  121  \n",
       " CA:1210             PSYD                : 772   SPRINGFIELD     :  115  \n",
       " CO: 269             MD                  : 640   HOUSTON         :  114  \n",
       " CT: 330             M.D.                : 601   CHARLOTTE       :  112  \n",
       " DC:  26             LICSW               : 493   WILMINGTON      :  109  \n",
       " DE:  80             MSW                 : 328   INDIANAPOLIS    :  103  \n",
       " FL:1293             LMSW                : 317   SAN DIEGO       :  100  \n",
       " GA: 353             PH.D                : 252   DALLAS          :   90  \n",
       " HI:  30             MSW, LCSW           : 192   PHILADELPHIA    :   90  \n",
       " IA: 209             LISW                : 191   JACKSONVILLE    :   81  \n",
       " ID: 131             L.C.S.W.            : 177   PORTLAND        :   79  \n",
       " IL: 791             PSY.D               : 169   RICHMOND        :   73  \n",
       " IN: 472             LCSW-C              : 139   AUSTIN          :   72  \n",
       " KS: 192             ED.D.               :  79   COLUMBUS        :   72  \n",
       " KY: 219             LSCSW               :  76   MINNEAPOLIS     :   72  \n",
       " LA: 180             MSW, LICSW          :  65   DETROIT         :   71  \n",
       " MA: 822             NP                  :  59   BOCA RATON      :   67  \n",
       " MD: 422             D.O.                :  57   COLUMBIA        :   65  \n",
       " ME: 162             PSY D               :  56   BALTIMORE       :   64  \n",
       " MI: 771             M.S.W.              :  55   TAMPA           :   63  \n",
       " MN: 488             PSY. D.             :  54   JACKSON         :   62  \n",
       " MO: 288             LCSW-R              :  53   ASHEVILLE       :   60  \n",
       " MS:  93             PH D                :  44   GRAND RAPIDS    :   58  \n",
       " MT:  62             MSW LCSW            :  43   ALBUQUERQUE     :   57  \n",
       " NC: 805             EDD                 :  41   RALEIGH         :   57  \n",
       " ND:  59             APRN                :  40   LOUISVILLE      :   56  \n",
       " NE: 103             LSW                 :  40   MILWAUKEE       :   55  \n",
       " NH: 127             LISW-CP             :  35   OKLAHOMA CITY   :   54  \n",
       " NJ: 573             LISW-S              :  35   CINCINNATI      :   53  \n",
       " NM: 108             ARNP                :  34   GAINESVILLE     :   53  \n",
       " NV:  79             CSW                 :  31   LANCASTER       :   53  \n",
       " NY:1192             M.D                 :  31   CHARLESTON      :   52  \n",
       " OH: 686             DO                  :  30   BOSTON          :   51  \n",
       " OK: 161             PA-C                :  26   CLEVELAND       :   50  \n",
       " OR: 175             PSYD, LP            :  26   MIAMI           :   50  \n",
       " PA: 859             MSW LICSW           :  25   SAN FRANCISCO   :   49  \n",
       " PR:  10             PH. D.              :  25   ROCHESTER       :   48  \n",
       " RI:  99             PHD, LP             :  25   GREENVILLE      :   47  \n",
       " SC: 226             MA                  :  24   MADISON         :   47  \n",
       " SD:  55             ED.D                :  22   DURHAM          :   46  \n",
       " TN: 324             LP                  :  22   PHOENIX         :   46  \n",
       " TX: 996             PHD.                :  20   VIRGINIA BEACH  :   45  \n",
       " UT:  93             PMHNP               :  20   COLORADO SPRINGS:   44  \n",
       " VA: 462             PSYD.               :  20   SARASOTA        :   42  \n",
       " VI:   1             CNP                 :  18   WICHITA         :   42  \n",
       " VT:  66             L.I.S.W.            :  18   ALBANY          :   41  \n",
       " WA: 257             M.A.                :  18   FORT WAYNE      :   41  \n",
       " WI: 411             MSW, LISW           :  18   SAINT LOUIS     :   41  \n",
       " WV:  71             LLMSW               :  17   BURLINGTON      :   40  \n",
       " WY:  39             PHD, HSPP           :  17   KANSAS CITY     :   40  \n",
       " ZZ:   1             PSYCHOLOGIST        :  17   WASHINGTON      :   40  \n",
       "                     LCSW, CADC          :  15   BUFFALO         :   39  \n",
       "                     LCSWR               :  15   DECATUR         :   39  \n",
       "                     M.S.                :  15   SAINT PAUL      :   39  \n",
       "                     MSW,LCSW            :  15   CONCORD         :   38  \n",
       "                     PMHNP-BC            :  15   LEXINGTON       :   38  \n",
       "                     LCSWA               :  14   WORCESTER       :   38  \n",
       "                     CRNP                :  13   ATLANTA         :   37  \n",
       "                     PH.D., HSPP         :  13   CANTON          :   37  \n",
       "                     PSYD, HSPP          :  13   DENVER          :   37  \n",
       "                     LCSW, LCAS          :  12   KNOXVILLE       :   37  \n",
       "                     LPC                 :  12   NORFOLK         :   37  \n",
       "                     M.S.W., L.C.S.W.    :  12   SEATTLE         :   37  \n",
       "                     PH.D., L.P.         :  12   BOISE           :   36  \n",
       "                     L.I.C.S.W.          :  11   FORT MYERS      :   36  \n",
       "                     LCSWC               :  11   MEMPHIS         :   36  \n",
       "                     LGSW                :  11   SCOTTSDALE      :   36  \n",
       "                     MSSW                :  11   FORT WORTH      :   35  \n",
       "                     MSW, LSW            :  11   PROVIDENCE      :   35  \n",
       "                     N.P.                :  11   OMAHA           :   34  \n",
       "                     APN                 :  10   TULSA           :   34  \n",
       "                     L.C.S.W             :  10   DOVER           :   33  \n",
       "                     MSW, LMSW           :  10   FAYETTEVILLE    :   33  \n",
       "                     PHD LP              :  10   FORT LAUDERDALE :   33  \n",
       "                     CNS                 :   9   LAS VEGAS       :   33  \n",
       "                     PHD HSPP            :   9   LITTLE ROCK     :   33  \n",
       "                     PSYD LP             :   9   NASHVILLE       :   33  \n",
       "                     CP                  :   8   WEST SPRINGFIELD:   33  \n",
       "                     FNP                 :   7   ARLINGTON       :   31  \n",
       "                     L.M.S.W.            :   7   SALT LAKE CITY  :   31  \n",
       "                     LCSW MSW            :   7   BLOOMINGTON     :   30  \n",
       "                     LCSW, LMFT          :   7   GREENSBORO      :   30  \n",
       "                     LMSW, ACSW          :   7   LAKEWOOD        :   30  \n",
       "                     MS                  :   7   PASADENA        :   30  \n",
       "                     PSY.D., LP          :   7   PITTSBURGH      :   30  \n",
       "                     RN                  :   7   SPOKANE         :   30  \n",
       "                     APSW                :   6   TUCSON          :   30  \n",
       "                     LCSW, CASAC         :   6   BATON ROUGE     :   29  \n",
       "                     LICENSED CLINICAL SO:   6   BEACHWOOD       :   29  \n",
       "                     LSCW                :   6   BRONX           :   29  \n",
       "                     MSW, ACSW, LCSW     :   6   ERIE            :   29  \n",
       "                     MSW, LISW-S         :   6   FLINT           :   29  \n",
       "                     MSW/LCSW            :   6   PENSACOLA       :   29  \n",
       "                     MSW/LICSW           :   6   RENO            :   29  \n",
       "                     P-LCSW              :   6   TOWSON          :   29  \n",
       "                     (Other)             :1480   (Other)         :12183  \n",
       "                               ProviderType \n",
       " Addiction Medicine                  :   4  \n",
       " Anesthesiology                      :   4  \n",
       " Certified Clinical Nurse Specialist :  92  \n",
       " Diagnostic Radiology                :   1  \n",
       " Emergency Medicine                  :   2  \n",
       " Family Practice                     :  38  \n",
       " Gastroenterology                    :   1  \n",
       " General Practice                    :   8  \n",
       " General Surgery                     :   2  \n",
       " Geriatric Psychiatry                :  12  \n",
       " Hematology-Oncology                 :   2  \n",
       " Hospitalist                         :   1  \n",
       " Infectious Disease                  :   1  \n",
       " Internal Medicine                   :  20  \n",
       " Interventional Pain Management      :   5  \n",
       " Licensed Clinical Social Worker     :7195  \n",
       " Neurology                           :  11  \n",
       " Neuropsychiatry                     :   5  \n",
       " Nurse Practitioner                  : 344  \n",
       " Obstetrics & Gynecology             :   2  \n",
       " Osteopathic Manipulative Medicine   :   2  \n",
       " Pain Management                     :  11  \n",
       " Pediatric Medicine                  :   2  \n",
       " Physical Medicine and Rehabilitation:   6  \n",
       " Physician Assistant                 :  45  \n",
       " Preventive Medicine                 :   1  \n",
       " Psychiatry                          :1320  \n",
       " Psychologist, Clinical              :8380  \n",
       " Pulmonary Disease                   :   1  \n",
       " Unknown Supplier/Provider Specialty :   1  \n",
       " Urology                             :   2  \n",
       "                                            \n",
       "                                            \n",
       "                                            \n",
       "                                            \n",
       "                                            \n",
       "                                            \n",
       "                                            \n",
       "                                            \n",
       "                                            \n",
       "                                            \n",
       "                                            \n",
       "                                            \n",
       "                                            \n",
       "                                            \n",
       "                                            \n",
       "                                            \n",
       "                                            \n",
       "                                            \n",
       "                                            \n",
       "                                            \n",
       "                                            \n",
       "                                            \n",
       "                                            \n",
       "                                            \n",
       "                                            \n",
       "                                            \n",
       "                                            \n",
       "                                            \n",
       "                                            \n",
       "                                            \n",
       "                                            \n",
       "                                            \n",
       "                                            \n",
       "                                            \n",
       "                                            \n",
       "                                            \n",
       "                                            \n",
       "                                            \n",
       "                                            \n",
       "                                            \n",
       "                                            \n",
       "                                            \n",
       "                                            \n",
       "                                            \n",
       "                                            \n",
       "                                            \n",
       "                                            \n",
       "                                            \n",
       "                                            \n",
       "                                            \n",
       "                                            \n",
       "                                            \n",
       "                                            \n",
       "                                            \n",
       "                                            \n",
       "                                            \n",
       "                                            \n",
       "                                            \n",
       "                                            \n",
       "                                            \n",
       "                                            \n",
       "                                            \n",
       "                                            \n",
       "                                            \n",
       "                                            \n",
       "                                            \n",
       "                                            \n",
       "                                            \n",
       "                                            "
      ]
     },
     "metadata": {},
     "output_type": "display_data"
    }
   ],
   "source": [
    "summary(medicare1, maxsum = 100)"
   ]
  },
  {
   "cell_type": "code",
   "execution_count": 29,
   "metadata": {},
   "outputs": [],
   "source": [
    "#aggregate(dat1$NumberServices, by=list(State=dat1$State), FUN=sum)"
   ]
  },
  {
   "cell_type": "code",
   "execution_count": 30,
   "metadata": {},
   "outputs": [],
   "source": [
    "#aggregate Number of services in different state from dat1\n",
    "aggNumServices <- aggregate(NumberServices ~ State, dat1, sum)"
   ]
  },
  {
   "cell_type": "code",
   "execution_count": 31,
   "metadata": {},
   "outputs": [
    {
     "data": {
      "text/html": [
       "<table>\n",
       "<thead><tr><th></th><th scope=col>State</th><th scope=col>NumberServices</th></tr></thead>\n",
       "<tbody>\n",
       "\t<tr><th scope=row>55</th><td>ZZ     </td><td>   20.0</td></tr>\n",
       "\t<tr><th scope=row>49</th><td>VI     </td><td>   28.0</td></tr>\n",
       "\t<tr><th scope=row>1</th><td>AE     </td><td>  158.0</td></tr>\n",
       "\t<tr><th scope=row>41</th><td>PR     </td><td>  208.0</td></tr>\n",
       "\t<tr><th scope=row>2</th><td>AK     </td><td>  413.0</td></tr>\n",
       "\t<tr><th scope=row>54</th><td>WY     </td><td> 1003.0</td></tr>\n",
       "\t<tr><th scope=row>13</th><td>HI     </td><td> 1041.0</td></tr>\n",
       "\t<tr><th scope=row>44</th><td>SD     </td><td> 1412.0</td></tr>\n",
       "\t<tr><th scope=row>9</th><td>DC     </td><td> 1479.0</td></tr>\n",
       "\t<tr><th scope=row>30</th><td>ND     </td><td> 1529.0</td></tr>\n",
       "\t<tr><th scope=row>50</th><td>VT     </td><td> 1547.0</td></tr>\n",
       "\t<tr><th scope=row>28</th><td>MT     </td><td> 1774.0</td></tr>\n",
       "\t<tr><th scope=row>35</th><td>NV     </td><td> 2687.0</td></tr>\n",
       "\t<tr><th scope=row>47</th><td>UT     </td><td> 2953.0</td></tr>\n",
       "\t<tr><th scope=row>10</th><td>DE     </td><td> 2996.0</td></tr>\n",
       "\t<tr><th scope=row>53</th><td>WV     </td><td> 3024.0</td></tr>\n",
       "\t<tr><th scope=row>31</th><td>NE     </td><td> 3051.0</td></tr>\n",
       "\t<tr><th scope=row>34</th><td>NM     </td><td> 3089.0</td></tr>\n",
       "\t<tr><th scope=row>15</th><td>ID     </td><td> 3321.0</td></tr>\n",
       "\t<tr><th scope=row>42</th><td>RI     </td><td> 3706.0</td></tr>\n",
       "\t<tr><th scope=row>39</th><td>OR     </td><td> 4517.0</td></tr>\n",
       "\t<tr><th scope=row>27</th><td>MS     </td><td> 4792.0</td></tr>\n",
       "\t<tr><th scope=row>23</th><td>ME     </td><td> 4799.0</td></tr>\n",
       "\t<tr><th scope=row>32</th><td>NH     </td><td> 5032.0</td></tr>\n",
       "\t<tr><th scope=row>14</th><td>IA     </td><td> 6213.0</td></tr>\n",
       "\t<tr><th scope=row>18</th><td>KS     </td><td> 6730.0</td></tr>\n",
       "\t<tr><th scope=row>4</th><td>AR     </td><td> 7105.0</td></tr>\n",
       "\t<tr><th scope=row>38</th><td>OK     </td><td> 7625.0</td></tr>\n",
       "\t<tr><th scope=row>3</th><td>AL     </td><td> 7776.0</td></tr>\n",
       "\t<tr><th scope=row>20</th><td>LA     </td><td> 7901.0</td></tr>\n",
       "\t<tr><th scope=row>19</th><td>KY     </td><td> 8050.0</td></tr>\n",
       "\t<tr><th scope=row>7</th><td>CO     </td><td> 8227.0</td></tr>\n",
       "\t<tr><th scope=row>51</th><td>WA     </td><td> 8832.0</td></tr>\n",
       "\t<tr><th scope=row>5</th><td>AZ     </td><td> 8856.0</td></tr>\n",
       "\t<tr><th scope=row>43</th><td>SC     </td><td> 9695.0</td></tr>\n",
       "\t<tr><th scope=row>26</th><td>MO     </td><td>11106.0</td></tr>\n",
       "\t<tr><th scope=row>52</th><td>WI     </td><td>11245.0</td></tr>\n",
       "\t<tr><th scope=row>25</th><td>MN     </td><td>12086.0</td></tr>\n",
       "\t<tr><th scope=row>8</th><td>CT     </td><td>14685.0</td></tr>\n",
       "\t<tr><th scope=row>45</th><td>TN     </td><td>15588.0</td></tr>\n",
       "\t<tr><th scope=row>12</th><td>GA     </td><td>16984.0</td></tr>\n",
       "\t<tr><th scope=row>48</th><td>VA     </td><td>18079.0</td></tr>\n",
       "\t<tr><th scope=row>22</th><td>MD     </td><td>19657.0</td></tr>\n",
       "\t<tr><th scope=row>17</th><td>IN     </td><td>20420.0</td></tr>\n",
       "\t<tr><th scope=row>37</th><td>OH     </td><td>26159.6</td></tr>\n",
       "\t<tr><th scope=row>29</th><td>NC     </td><td>29797.0</td></tr>\n",
       "\t<tr><th scope=row>21</th><td>MA     </td><td>31611.0</td></tr>\n",
       "\t<tr><th scope=row>24</th><td>MI     </td><td>31921.0</td></tr>\n",
       "\t<tr><th scope=row>33</th><td>NJ     </td><td>32164.0</td></tr>\n",
       "\t<tr><th scope=row>16</th><td>IL     </td><td>33424.0</td></tr>\n",
       "\t<tr><th scope=row>40</th><td>PA     </td><td>36592.0</td></tr>\n",
       "\t<tr><th scope=row>46</th><td>TX     </td><td>52123.0</td></tr>\n",
       "\t<tr><th scope=row>36</th><td>NY     </td><td>52494.0</td></tr>\n",
       "\t<tr><th scope=row>11</th><td>FL     </td><td>59269.0</td></tr>\n",
       "\t<tr><th scope=row>6</th><td>CA     </td><td>64246.0</td></tr>\n",
       "</tbody>\n",
       "</table>\n"
      ],
      "text/latex": [
       "\\begin{tabular}{r|ll}\n",
       "  & State & NumberServices\\\\\n",
       "\\hline\n",
       "\t55 & ZZ      &    20.0\\\\\n",
       "\t49 & VI      &    28.0\\\\\n",
       "\t1 & AE      &   158.0\\\\\n",
       "\t41 & PR      &   208.0\\\\\n",
       "\t2 & AK      &   413.0\\\\\n",
       "\t54 & WY      &  1003.0\\\\\n",
       "\t13 & HI      &  1041.0\\\\\n",
       "\t44 & SD      &  1412.0\\\\\n",
       "\t9 & DC      &  1479.0\\\\\n",
       "\t30 & ND      &  1529.0\\\\\n",
       "\t50 & VT      &  1547.0\\\\\n",
       "\t28 & MT      &  1774.0\\\\\n",
       "\t35 & NV      &  2687.0\\\\\n",
       "\t47 & UT      &  2953.0\\\\\n",
       "\t10 & DE      &  2996.0\\\\\n",
       "\t53 & WV      &  3024.0\\\\\n",
       "\t31 & NE      &  3051.0\\\\\n",
       "\t34 & NM      &  3089.0\\\\\n",
       "\t15 & ID      &  3321.0\\\\\n",
       "\t42 & RI      &  3706.0\\\\\n",
       "\t39 & OR      &  4517.0\\\\\n",
       "\t27 & MS      &  4792.0\\\\\n",
       "\t23 & ME      &  4799.0\\\\\n",
       "\t32 & NH      &  5032.0\\\\\n",
       "\t14 & IA      &  6213.0\\\\\n",
       "\t18 & KS      &  6730.0\\\\\n",
       "\t4 & AR      &  7105.0\\\\\n",
       "\t38 & OK      &  7625.0\\\\\n",
       "\t3 & AL      &  7776.0\\\\\n",
       "\t20 & LA      &  7901.0\\\\\n",
       "\t19 & KY      &  8050.0\\\\\n",
       "\t7 & CO      &  8227.0\\\\\n",
       "\t51 & WA      &  8832.0\\\\\n",
       "\t5 & AZ      &  8856.0\\\\\n",
       "\t43 & SC      &  9695.0\\\\\n",
       "\t26 & MO      & 11106.0\\\\\n",
       "\t52 & WI      & 11245.0\\\\\n",
       "\t25 & MN      & 12086.0\\\\\n",
       "\t8 & CT      & 14685.0\\\\\n",
       "\t45 & TN      & 15588.0\\\\\n",
       "\t12 & GA      & 16984.0\\\\\n",
       "\t48 & VA      & 18079.0\\\\\n",
       "\t22 & MD      & 19657.0\\\\\n",
       "\t17 & IN      & 20420.0\\\\\n",
       "\t37 & OH      & 26159.6\\\\\n",
       "\t29 & NC      & 29797.0\\\\\n",
       "\t21 & MA      & 31611.0\\\\\n",
       "\t24 & MI      & 31921.0\\\\\n",
       "\t33 & NJ      & 32164.0\\\\\n",
       "\t16 & IL      & 33424.0\\\\\n",
       "\t40 & PA      & 36592.0\\\\\n",
       "\t46 & TX      & 52123.0\\\\\n",
       "\t36 & NY      & 52494.0\\\\\n",
       "\t11 & FL      & 59269.0\\\\\n",
       "\t6 & CA      & 64246.0\\\\\n",
       "\\end{tabular}\n"
      ],
      "text/markdown": [
       "\n",
       "| <!--/--> | State | NumberServices |\n",
       "|---|---|---|\n",
       "| 55 | ZZ      |    20.0 |\n",
       "| 49 | VI      |    28.0 |\n",
       "| 1 | AE      |   158.0 |\n",
       "| 41 | PR      |   208.0 |\n",
       "| 2 | AK      |   413.0 |\n",
       "| 54 | WY      |  1003.0 |\n",
       "| 13 | HI      |  1041.0 |\n",
       "| 44 | SD      |  1412.0 |\n",
       "| 9 | DC      |  1479.0 |\n",
       "| 30 | ND      |  1529.0 |\n",
       "| 50 | VT      |  1547.0 |\n",
       "| 28 | MT      |  1774.0 |\n",
       "| 35 | NV      |  2687.0 |\n",
       "| 47 | UT      |  2953.0 |\n",
       "| 10 | DE      |  2996.0 |\n",
       "| 53 | WV      |  3024.0 |\n",
       "| 31 | NE      |  3051.0 |\n",
       "| 34 | NM      |  3089.0 |\n",
       "| 15 | ID      |  3321.0 |\n",
       "| 42 | RI      |  3706.0 |\n",
       "| 39 | OR      |  4517.0 |\n",
       "| 27 | MS      |  4792.0 |\n",
       "| 23 | ME      |  4799.0 |\n",
       "| 32 | NH      |  5032.0 |\n",
       "| 14 | IA      |  6213.0 |\n",
       "| 18 | KS      |  6730.0 |\n",
       "| 4 | AR      |  7105.0 |\n",
       "| 38 | OK      |  7625.0 |\n",
       "| 3 | AL      |  7776.0 |\n",
       "| 20 | LA      |  7901.0 |\n",
       "| 19 | KY      |  8050.0 |\n",
       "| 7 | CO      |  8227.0 |\n",
       "| 51 | WA      |  8832.0 |\n",
       "| 5 | AZ      |  8856.0 |\n",
       "| 43 | SC      |  9695.0 |\n",
       "| 26 | MO      | 11106.0 |\n",
       "| 52 | WI      | 11245.0 |\n",
       "| 25 | MN      | 12086.0 |\n",
       "| 8 | CT      | 14685.0 |\n",
       "| 45 | TN      | 15588.0 |\n",
       "| 12 | GA      | 16984.0 |\n",
       "| 48 | VA      | 18079.0 |\n",
       "| 22 | MD      | 19657.0 |\n",
       "| 17 | IN      | 20420.0 |\n",
       "| 37 | OH      | 26159.6 |\n",
       "| 29 | NC      | 29797.0 |\n",
       "| 21 | MA      | 31611.0 |\n",
       "| 24 | MI      | 31921.0 |\n",
       "| 33 | NJ      | 32164.0 |\n",
       "| 16 | IL      | 33424.0 |\n",
       "| 40 | PA      | 36592.0 |\n",
       "| 46 | TX      | 52123.0 |\n",
       "| 36 | NY      | 52494.0 |\n",
       "| 11 | FL      | 59269.0 |\n",
       "| 6 | CA      | 64246.0 |\n",
       "\n"
      ],
      "text/plain": [
       "   State NumberServices\n",
       "55 ZZ       20.0       \n",
       "49 VI       28.0       \n",
       "1  AE      158.0       \n",
       "41 PR      208.0       \n",
       "2  AK      413.0       \n",
       "54 WY     1003.0       \n",
       "13 HI     1041.0       \n",
       "44 SD     1412.0       \n",
       "9  DC     1479.0       \n",
       "30 ND     1529.0       \n",
       "50 VT     1547.0       \n",
       "28 MT     1774.0       \n",
       "35 NV     2687.0       \n",
       "47 UT     2953.0       \n",
       "10 DE     2996.0       \n",
       "53 WV     3024.0       \n",
       "31 NE     3051.0       \n",
       "34 NM     3089.0       \n",
       "15 ID     3321.0       \n",
       "42 RI     3706.0       \n",
       "39 OR     4517.0       \n",
       "27 MS     4792.0       \n",
       "23 ME     4799.0       \n",
       "32 NH     5032.0       \n",
       "14 IA     6213.0       \n",
       "18 KS     6730.0       \n",
       "4  AR     7105.0       \n",
       "38 OK     7625.0       \n",
       "3  AL     7776.0       \n",
       "20 LA     7901.0       \n",
       "19 KY     8050.0       \n",
       "7  CO     8227.0       \n",
       "51 WA     8832.0       \n",
       "5  AZ     8856.0       \n",
       "43 SC     9695.0       \n",
       "26 MO    11106.0       \n",
       "52 WI    11245.0       \n",
       "25 MN    12086.0       \n",
       "8  CT    14685.0       \n",
       "45 TN    15588.0       \n",
       "12 GA    16984.0       \n",
       "48 VA    18079.0       \n",
       "22 MD    19657.0       \n",
       "17 IN    20420.0       \n",
       "37 OH    26159.6       \n",
       "29 NC    29797.0       \n",
       "21 MA    31611.0       \n",
       "24 MI    31921.0       \n",
       "33 NJ    32164.0       \n",
       "16 IL    33424.0       \n",
       "40 PA    36592.0       \n",
       "46 TX    52123.0       \n",
       "36 NY    52494.0       \n",
       "11 FL    59269.0       \n",
       "6  CA    64246.0       "
      ]
     },
     "metadata": {},
     "output_type": "display_data"
    }
   ],
   "source": [
    "#order the aggregation\n",
    "aggNumServices[order(aggNumServices$NumberServices),]"
   ]
  },
  {
   "cell_type": "code",
   "execution_count": 32,
   "metadata": {},
   "outputs": [
    {
     "data": {
      "text/plain": [
       "     State    NumberServices \n",
       " AE     : 1   Min.   :   20  \n",
       " AK     : 1   1st Qu.: 2974  \n",
       " AL     : 1   Median : 7625  \n",
       " AR     : 1   Mean   :13295  \n",
       " AZ     : 1   3rd Qu.:17532  \n",
       " CA     : 1   Max.   :64246  \n",
       " (Other):49                  "
      ]
     },
     "metadata": {},
     "output_type": "display_data"
    }
   ],
   "source": [
    "#Summary statistic (mean, standard deviation, median, Interquartile Range(25th and 75th percentile), min,max)\n",
    "summary(aggNumServices)"
   ]
  },
  {
   "cell_type": "code",
   "execution_count": 33,
   "metadata": {},
   "outputs": [],
   "source": [
    "#read dataset from CMS for medicare benificiaries\n",
    "setwd (\"/Users/ruyazhang/downloads\")"
   ]
  },
  {
   "cell_type": "code",
   "execution_count": 34,
   "metadata": {},
   "outputs": [],
   "source": [
    "dat2 <- read.csv(\"StateCountyFFS2017.csv\")"
   ]
  },
  {
   "cell_type": "code",
   "execution_count": 35,
   "metadata": {},
   "outputs": [],
   "source": [
    "# State Total FFS population\n",
    "stateBeneficiaries <- select(filter(dat2, County == \"STATE TOTAL\"), c(State, Beneficiaries) )"
   ]
  },
  {
   "cell_type": "code",
   "execution_count": 36,
   "metadata": {},
   "outputs": [],
   "source": [
    "#print(stateBeneficiaries)"
   ]
  },
  {
   "cell_type": "code",
   "execution_count": 37,
   "metadata": {},
   "outputs": [],
   "source": [
    "#df <- merge(x=stateBeneficiaries, y=aggNumServices, by = \"State\", all=TRUE, sort=TRUE)"
   ]
  },
  {
   "cell_type": "code",
   "execution_count": 38,
   "metadata": {},
   "outputs": [],
   "source": [
    "#merge is a function in dplyr package\n",
    "df <- merge(x=stateBeneficiaries, y=aggNumServices, by = \"State\")"
   ]
  },
  {
   "cell_type": "code",
   "execution_count": 40,
   "metadata": {},
   "outputs": [],
   "source": [
    "#Culculation NumberServices/Beneficiaries and converted number to  numeric\n",
    "df$ServicePerFFS <- df[,3]/as.numeric(as.character(df[,2]))"
   ]
  },
  {
   "cell_type": "code",
   "execution_count": 41,
   "metadata": {},
   "outputs": [
    {
     "name": "stdout",
     "output_type": "stream",
     "text": [
      "   State Beneficiaries NumberServices ServicePerFFS\n",
      "1     AK      82927.00          413.0  0.0049802839\n",
      "2     AL     969116.00         7776.0  0.0080238073\n",
      "3     AR     593592.00         7105.0  0.0119695009\n",
      "4     AZ    1155335.00         8856.0  0.0076653092\n",
      "5     CA    5478663.00        64246.0  0.0117265837\n",
      "6     CO     789379.00         8227.0  0.0104221166\n",
      "7     CT     604883.00        14685.0  0.0242774222\n",
      "8     DC      76084.00         1479.0  0.0194390411\n",
      "9     DE     184883.00         2996.0  0.0162048431\n",
      "10    FL    4148415.00        59269.0  0.0142871434\n",
      "11    GA    1544616.00        16984.0  0.0109956131\n",
      "12    HI     231721.00         1041.0  0.0044924715\n",
      "13    IA     577446.00         6213.0  0.0107594476\n",
      "14    ID     294633.00         3321.0  0.0112716498\n",
      "15    IL    2007176.00        33424.0  0.0166522517\n",
      "16    IN    1160602.00        20420.0  0.0175943174\n",
      "17    KS     485625.00         6730.0  0.0138584299\n",
      "18    KY     857387.00         8050.0  0.0093889924\n",
      "19    LA     797069.00         7901.0  0.0099125672\n",
      "20    MA    1174969.00        31611.0  0.0269036885\n",
      "21    MD     881248.00        19657.0  0.0223058662\n",
      "22    ME     306728.00         4799.0  0.0156457839\n",
      "23    MI    1926676.00        31921.0  0.0165679128\n",
      "24    MN     923747.00        12086.0  0.0130836690\n",
      "25    MO    1129912.00        11106.0  0.0098290840\n",
      "26    MS     565678.00         4792.0  0.0084712504\n",
      "27    MT     206080.00         1774.0  0.0086083075\n",
      "28    NC    1823347.00        29797.0  0.0163419250\n",
      "29    ND     118011.00         1529.0  0.0129564193\n",
      "30    NE     312343.00         3051.0  0.0097681075\n",
      "31    NH     258658.00         5032.0  0.0194542601\n",
      "32    NJ    1422817.00        32164.0  0.0226058587\n",
      "33    NM     370629.00         3089.0  0.0083344800\n",
      "34    NV     452921.00         2687.0  0.0059326019\n",
      "35    NY    3208508.00        52494.0  0.0163608755\n",
      "36    OH    2143757.00        26159.6  0.0122026890\n",
      "37    OK     669922.00         7625.0  0.0113819221\n",
      "38    OR     767980.00         4517.0  0.0058816636\n",
      "39    PA    2491524.00        36592.0  0.0146865934\n",
      "40    PR     633773.00          208.0  0.0003281932\n",
      "41    RI     192336.00         3706.0  0.0192683637\n",
      "42    SC     973995.00         9695.0  0.0099538499\n",
      "43    SD     158039.00         1412.0  0.0089345035\n",
      "44    TN    1248577.00        15588.0  0.0124846125\n",
      "45    TX    3668126.00        52123.0  0.0142097082\n",
      "46    UT     343823.00         2953.0  0.0085887215\n",
      "47    VA    1326512.00        18079.0  0.0136289758\n",
      "48    VI      18155.00           28.0  0.0015422749\n",
      "49    VT     131108.00         1547.0  0.0117994325\n",
      "50    WA    1196540.00         8832.0  0.0073812827\n",
      "51    WI    1074484.00        11245.0  0.0104654886\n",
      "52    WV     414555.00         3024.0  0.0072945689\n",
      "53    WY      97212.00         1003.0  0.0103176563\n"
     ]
    }
   ],
   "source": [
    "print(df)"
   ]
  },
  {
   "cell_type": "code",
   "execution_count": 44,
   "metadata": {},
   "outputs": [
    {
     "data": {
      "text/html": [
       "<ol class=list-inline>\n",
       "\t<li>53</li>\n",
       "\t<li>4</li>\n",
       "</ol>\n"
      ],
      "text/latex": [
       "\\begin{enumerate*}\n",
       "\\item 53\n",
       "\\item 4\n",
       "\\end{enumerate*}\n"
      ],
      "text/markdown": [
       "1. 53\n",
       "2. 4\n",
       "\n",
       "\n"
      ],
      "text/plain": [
       "[1] 53  4"
      ]
     },
     "metadata": {},
     "output_type": "display_data"
    },
    {
     "name": "stdout",
     "output_type": "stream",
     "text": [
      "'data.frame':\t53 obs. of  4 variables:\n",
      " $ State         : Factor w/ 56 levels \"AK\",\"AL\",\"AR\",..: 1 2 3 4 5 6 7 8 9 10 ...\n",
      " $ Beneficiaries : Factor w/ 2898 levels \"*\",\"10009.00\",..: 2633 2854 2204 166 2093 2560 2234 2508 736 1723 ...\n",
      " $ NumberServices: num  413 7776 7105 8856 64246 ...\n",
      " $ ServicePerFFS : num  0.00498 0.00802 0.01197 0.00767 0.01173 ...\n"
     ]
    }
   ],
   "source": [
    "dim(df)\n",
    "str(df)"
   ]
  },
  {
   "cell_type": "code",
   "execution_count": 34,
   "metadata": {},
   "outputs": [],
   "source": [
    "#Below is the old way of culculation\n",
    "#numera <- df[,3]\n",
    "#denom <- as.numeric(as.character(df[,2]))\n",
    "#Rate=numera/denom*1000\n",
    "#print(Rate)\n",
    "#df$Rate <- numera/denom*1000\n",
    "#df$Rate <- as.character(df$Rate )\n",
    "#df$Rate <- as.numeric(gsub(',', '', df$Rate ))"
   ]
  },
  {
   "cell_type": "code",
   "execution_count": 46,
   "metadata": {},
   "outputs": [
    {
     "name": "stdout",
     "output_type": "stream",
     "text": [
      "   State Beneficiaries NumberServices ServicePerFFS\n",
      "1     AK      82927.00          413.0  0.0049802839\n",
      "2     AL     969116.00         7776.0  0.0080238073\n",
      "3     AR     593592.00         7105.0  0.0119695009\n",
      "4     AZ    1155335.00         8856.0  0.0076653092\n",
      "5     CA    5478663.00        64246.0  0.0117265837\n",
      "6     CO     789379.00         8227.0  0.0104221166\n",
      "7     CT     604883.00        14685.0  0.0242774222\n",
      "8     DC      76084.00         1479.0  0.0194390411\n",
      "9     DE     184883.00         2996.0  0.0162048431\n",
      "10    FL    4148415.00        59269.0  0.0142871434\n",
      "11    GA    1544616.00        16984.0  0.0109956131\n",
      "12    HI     231721.00         1041.0  0.0044924715\n",
      "13    IA     577446.00         6213.0  0.0107594476\n",
      "14    ID     294633.00         3321.0  0.0112716498\n",
      "15    IL    2007176.00        33424.0  0.0166522517\n",
      "16    IN    1160602.00        20420.0  0.0175943174\n",
      "17    KS     485625.00         6730.0  0.0138584299\n",
      "18    KY     857387.00         8050.0  0.0093889924\n",
      "19    LA     797069.00         7901.0  0.0099125672\n",
      "20    MA    1174969.00        31611.0  0.0269036885\n",
      "21    MD     881248.00        19657.0  0.0223058662\n",
      "22    ME     306728.00         4799.0  0.0156457839\n",
      "23    MI    1926676.00        31921.0  0.0165679128\n",
      "24    MN     923747.00        12086.0  0.0130836690\n",
      "25    MO    1129912.00        11106.0  0.0098290840\n",
      "26    MS     565678.00         4792.0  0.0084712504\n",
      "27    MT     206080.00         1774.0  0.0086083075\n",
      "28    NC    1823347.00        29797.0  0.0163419250\n",
      "29    ND     118011.00         1529.0  0.0129564193\n",
      "30    NE     312343.00         3051.0  0.0097681075\n",
      "31    NH     258658.00         5032.0  0.0194542601\n",
      "32    NJ    1422817.00        32164.0  0.0226058587\n",
      "33    NM     370629.00         3089.0  0.0083344800\n",
      "34    NV     452921.00         2687.0  0.0059326019\n",
      "35    NY    3208508.00        52494.0  0.0163608755\n",
      "36    OH    2143757.00        26159.6  0.0122026890\n",
      "37    OK     669922.00         7625.0  0.0113819221\n",
      "38    OR     767980.00         4517.0  0.0058816636\n",
      "39    PA    2491524.00        36592.0  0.0146865934\n",
      "40    PR     633773.00          208.0  0.0003281932\n",
      "41    RI     192336.00         3706.0  0.0192683637\n",
      "42    SC     973995.00         9695.0  0.0099538499\n",
      "43    SD     158039.00         1412.0  0.0089345035\n",
      "44    TN    1248577.00        15588.0  0.0124846125\n",
      "45    TX    3668126.00        52123.0  0.0142097082\n",
      "46    UT     343823.00         2953.0  0.0085887215\n",
      "47    VA    1326512.00        18079.0  0.0136289758\n",
      "48    VI      18155.00           28.0  0.0015422749\n",
      "49    VT     131108.00         1547.0  0.0117994325\n",
      "50    WA    1196540.00         8832.0  0.0073812827\n",
      "51    WI    1074484.00        11245.0  0.0104654886\n",
      "52    WV     414555.00         3024.0  0.0072945689\n",
      "53    WY      97212.00         1003.0  0.0103176563\n"
     ]
    }
   ],
   "source": [
    "#Always check the culculation see if it is correct\n",
    "print(df)"
   ]
  },
  {
   "cell_type": "code",
   "execution_count": 98,
   "metadata": {},
   "outputs": [],
   "source": [
    "#delete DC, PR, VI states (this was when using ggmap, but now we use US map)\n",
    "#df <- df[-c(8, 40, 48),]\n",
    "#ggmap previous procedures: \n",
    "#states <- map_data(\"state\")\n",
    "#dim(states): 15537 6 \n",
    "#head(states)\n",
    "#ggplot(data = states) + geom_polygon(aes(x = long, y = lat, fill = region, group = group), color = \"white\") + coord_fixed(1.3) + guides(fill=FALSE) \n",
    "\n",
    "#Match state name file (from abbreviation to full, to below formula(50states) thus deleted 3 states above)\n",
    "#states <- setNames(as.list(datasets::state.name), datasets::state.abb)\n",
    "#states[[\"AL\"]]     : 'Alabama'\n",
    "#dput(states)\n",
    "\n",
    "#df$State <- setNames(as.list(datasets::state.name), datasets::state.abb)\n",
    "#df$State <- tolower(df$State)\n",
    "#print(df)\n",
    "\n",
    "#merge state long and lat from ggplot to my dataset by region in ggplot and State in my dataset\n",
    "#data <- merge(states, df, by.x='region', by.y='State')\n",
    "#head(data)\n",
    "\n",
    "#converted beneficiaries to numeric so that I can lable it in log10\n",
    "#data$Beneficiaries <- as.numeric(as.character(data$Beneficiaries))\n",
    "\n",
    "#mapping:\n",
    "ggplot(data, aes(x=long, y=lat, group=group, fill=Rate)) + \n",
    "geom_polygon(color='gray') + coord_fixed(1.6) + scale_fill_gradient(low='white',\n",
    "  high='red', trans = \"log10\") +\n",
    "theme_void() +\n",
    "ggtitle('Rate of Telemedicine use per 1000 beneficiaries - HCPCS code 90791')"
   ]
  },
  {
   "cell_type": "code",
   "execution_count": 60,
   "metadata": {},
   "outputs": [],
   "source": [
    "#write.csv(df, \"state.csv\")"
   ]
  },
  {
   "cell_type": "code",
   "execution_count": 47,
   "metadata": {},
   "outputs": [],
   "source": [
    "setwd(\"/Users/ruyazhang/downloads\")"
   ]
  },
  {
   "cell_type": "code",
   "execution_count": 48,
   "metadata": {},
   "outputs": [],
   "source": [
    "df <- read.csv(\"state.csv\")"
   ]
  },
  {
   "cell_type": "code",
   "execution_count": 49,
   "metadata": {},
   "outputs": [],
   "source": [
    "df <- df[,-1]"
   ]
  },
  {
   "cell_type": "code",
   "execution_count": 50,
   "metadata": {},
   "outputs": [],
   "source": [
    "names(df) <- c(\"abbr\",\"FFSpop\",\"Service\",\"ServicePerFFS\")"
   ]
  },
  {
   "cell_type": "code",
   "execution_count": 51,
   "metadata": {},
   "outputs": [],
   "source": [
    "df <- merge(statepop, df, by=\"abbr\")"
   ]
  },
  {
   "cell_type": "code",
   "execution_count": 52,
   "metadata": {},
   "outputs": [],
   "source": [
    "df$ServicePerFFS <- df$ServicePerFFS *1000"
   ]
  },
  {
   "cell_type": "code",
   "execution_count": 53,
   "metadata": {},
   "outputs": [
    {
     "name": "stderr",
     "output_type": "stream",
     "text": [
      "Warning message:\n",
      "“Use of `map_df$x` is discouraged. Use `x` instead.”Warning message:\n",
      "“Use of `map_df$y` is discouraged. Use `y` instead.”Warning message:\n",
      "“Use of `map_df$group` is discouraged. Use `group` instead.”"
     ]
    },
    {
     "data": {
      "image/png": "[encoded data removed]",
      "text/plain": [
       "plot without title"
      ]
     },
     "metadata": {},
     "output_type": "display_data"
    }
   ],
   "source": [
    "plot_usmap(data = df, values = \"ServicePerFFS\", color = \"red\") + \n",
    "  scale_fill_continuous(name = \"ServicePerFFS (2017)\", label = scales::comma) + \n",
    "  theme(legend.position = \"right\")\n"
   ]
  },
  {
   "cell_type": "code",
   "execution_count": null,
   "metadata": {},
   "outputs": [],
   "source": []
  }
 ],
 "metadata": {
  "kernelspec": {
   "display_name": "R",
   "language": "R",
   "name": "ir"
  },
  "language_info": {
   "codemirror_mode": "r",
   "file_extension": ".r",
   "mimetype": "text/x-r-source",
   "name": "R",
   "pygments_lexer": "r",
   "version": "3.6.1"
  }
 },
 "nbformat": 4,
 "nbformat_minor": 4
}
