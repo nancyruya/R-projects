{
 "cells": [
  {
   "cell_type": "code",
   "execution_count": 1,
   "metadata": {},
   "outputs": [
    {
     "name": "stderr",
     "output_type": "stream",
     "text": [
      "C:\\Users\\szej01\\AppData\\Local\\Continuum\\anaconda3\\envs\\geo2\\lib\\site-packages\\pysal\\__init__.py:65: VisibleDeprecationWarning: PySAL's API will be changed on 2018-12-31. The last release made with this API is version 1.14.4. A preview of the next API version is provided in the `pysal` 2.0 prelease candidate. The API changes and a guide on how to change imports is provided at https://migrating.pysal.org\n",
      "  ), VisibleDeprecationWarning)\n"
     ]
    }
   ],
   "source": [
    "import pandas as pd\n",
    "import geopandas as gpd\n",
    "import numpy as np\n",
    "from shapely.geometry import MultiPolygon\n",
    "from shapely.geometry import Point, MultiPoint\n",
    "import os\n",
    "import sys\n",
    "import pysal as ps\n",
    "import matplotlib.pyplot as plt"
   ]
  },
  {
   "cell_type": "code",
   "execution_count": 2,
   "metadata": {},
   "outputs": [],
   "source": [
    "os.getcwd()\n",
    "sys.path.append(os.path.realpath('..'))"
   ]
  },
  {
   "cell_type": "code",
   "execution_count": 3,
   "metadata": {},
   "outputs": [
    {
     "name": "stderr",
     "output_type": "stream",
     "text": [
      "C:\\Users\\szej01\\AppData\\Local\\Continuum\\anaconda3\\envs\\geo2\\lib\\site-packages\\IPython\\core\\interactiveshell.py:3049: DtypeWarning: Columns (10) have mixed types. Specify dtype option on import or set low_memory=False.\n",
      "  interactivity=interactivity, compiler=compiler, result=result)\n"
     ]
    }
   ],
   "source": [
    "filename = r\"..\\input_data\\Medicare_Provider_Utilization_and_Payment_Data__Physician_and_Other_Supplier_PUF_CY2016.csv\"\n",
    "physician_puf16_df = pd.read_csv(filename)"
   ]
  },
  {
   "cell_type": "markdown",
   "metadata": {},
   "source": [
    "### Pulling out the subset of HCPCS code\n"
   ]
  },
  {
   "cell_type": "code",
   "execution_count": 4,
   "metadata": {},
   "outputs": [],
   "source": [
    "lungcancerscreening = pd.Series(['G0297'])"
   ]
  },
  {
   "cell_type": "code",
   "execution_count": 5,
   "metadata": {},
   "outputs": [],
   "source": [
    "physician_puf16_df['lungcancerscreening'] = physician_puf16_df['HCPCS Code'].isin(lungcancerscreening)"
   ]
  },
  {
   "cell_type": "code",
   "execution_count": 6,
   "metadata": {},
   "outputs": [
    {
     "data": {
      "text/plain": [
       "0.00019979627162246513"
      ]
     },
     "execution_count": 6,
     "metadata": {},
     "output_type": "execute_result"
    }
   ],
   "source": [
    "physician_puf16_df['lungcancerscreening'].mean()"
   ]
  },
  {
   "cell_type": "code",
   "execution_count": 7,
   "metadata": {},
   "outputs": [
    {
     "data": {
      "text/plain": [
       "2720     G0297\n",
       "3144     G0297\n",
       "4602     G0297\n",
       "4603     G0297\n",
       "13921    G0297\n",
       "13981    G0297\n",
       "35969    G0297\n",
       "36931    G0297\n",
       "44910    G0297\n",
       "46518    G0297\n",
       "Name: HCPCS Code, dtype: object"
      ]
     },
     "execution_count": 7,
     "metadata": {},
     "output_type": "execute_result"
    }
   ],
   "source": [
    "physician_puf16_df['HCPCS Code'][physician_puf16_df.lungcancerscreening == True].head(10)"
   ]
  },
  {
   "cell_type": "code",
   "execution_count": 8,
   "metadata": {},
   "outputs": [
    {
     "data": {
      "text/plain": [
       "False    9712955\n",
       "True        1941\n",
       "Name: lungcancerscreening, dtype: int64"
      ]
     },
     "execution_count": 8,
     "metadata": {},
     "output_type": "execute_result"
    }
   ],
   "source": [
    "physician_puf16_df['lungcancerscreening'].value_counts()"
   ]
  },
  {
   "cell_type": "code",
   "execution_count": 9,
   "metadata": {},
   "outputs": [],
   "source": [
    "LungCancerScreening_puf16 = pd.DataFrame(physician_puf16_df.loc[physician_puf16_df['lungcancerscreening'] == True])"
   ]
  },
  {
   "cell_type": "code",
   "execution_count": 10,
   "metadata": {},
   "outputs": [
    {
     "data": {
      "text/plain": [
       "Index(['National Provider Identifier',\n",
       "       'Last Name/Organization Name of the Provider',\n",
       "       'First Name of the Provider', 'Middle Initial of the Provider',\n",
       "       'Credentials of the Provider', 'Gender of the Provider',\n",
       "       'Entity Type of the Provider', 'Street Address 1 of the Provider',\n",
       "       'Street Address 2 of the Provider', 'City of the Provider',\n",
       "       'Zip Code of the Provider', 'State Code of the Provider',\n",
       "       'Country Code of the Provider', 'Provider Type',\n",
       "       'Medicare Participation Indicator', 'Place of Service', 'HCPCS Code',\n",
       "       'HCPCS Description', 'HCPCS Drug Indicator', 'Number of Services',\n",
       "       'Number of Medicare Beneficiaries',\n",
       "       'Number of Distinct Medicare Beneficiary/Per Day Services',\n",
       "       'Average Medicare Allowed Amount', 'Average Submitted Charge Amount',\n",
       "       'Average Medicare Payment Amount',\n",
       "       'Average Medicare Standardized Amount', 'lungcancerscreening'],\n",
       "      dtype='object')"
      ]
     },
     "execution_count": 10,
     "metadata": {},
     "output_type": "execute_result"
    }
   ],
   "source": [
    "LungCancerScreening_puf16.columns"
   ]
  },
  {
   "cell_type": "code",
   "execution_count": 11,
   "metadata": {},
   "outputs": [],
   "source": [
    "collapsed_LungCancerScreening_puf16 = gpd.GeoDataFrame(LungCancerScreening_puf16.groupby('National Provider Identifier').agg({\n",
    "    'Number of Services': sum\n",
    "})).reset_index() "
   ]
  },
  {
   "cell_type": "code",
   "execution_count": 12,
   "metadata": {},
   "outputs": [
    {
     "data": {
      "text/plain": [
       "National Provider Identifier    1860\n",
       "Number of Services              1860\n",
       "dtype: int64"
      ]
     },
     "execution_count": 12,
     "metadata": {},
     "output_type": "execute_result"
    }
   ],
   "source": [
    "collapsed_LungCancerScreening_puf16.count()"
   ]
  },
  {
   "cell_type": "code",
   "execution_count": 13,
   "metadata": {},
   "outputs": [],
   "source": [
    "filepath =  r\"..\\intermediate\\LungCancerScreening_puf16.csv\"\n",
    "save_out = collapsed_LungCancerScreening_puf16[['National Provider Identifier','Number of Services']]\n",
    "save_out.to_csv(filepath)"
   ]
  },
  {
   "cell_type": "code",
   "execution_count": 15,
   "metadata": {},
   "outputs": [
    {
     "data": {
      "text/html": [
       "<div>\n",
       "<style scoped>\n",
       "    .dataframe tbody tr th:only-of-type {\n",
       "        vertical-align: middle;\n",
       "    }\n",
       "\n",
       "    .dataframe tbody tr th {\n",
       "        vertical-align: top;\n",
       "    }\n",
       "\n",
       "    .dataframe thead th {\n",
       "        text-align: right;\n",
       "    }\n",
       "</style>\n",
       "<table border=\"1\" class=\"dataframe\">\n",
       "  <thead>\n",
       "    <tr style=\"text-align: right;\">\n",
       "      <th></th>\n",
       "      <th>National Provider Identifier</th>\n",
       "      <th>Number of Services</th>\n",
       "    </tr>\n",
       "  </thead>\n",
       "  <tbody>\n",
       "    <tr>\n",
       "      <th>2</th>\n",
       "      <td>1003027376</td>\n",
       "      <td>75.0</td>\n",
       "    </tr>\n",
       "  </tbody>\n",
       "</table>\n",
       "</div>"
      ],
      "text/plain": [
       "   National Provider Identifier  Number of Services\n",
       "2                    1003027376                75.0"
      ]
     },
     "execution_count": 15,
     "metadata": {},
     "output_type": "execute_result"
    }
   ],
   "source": [
    "collapsed_LungCancerScreening_puf16[collapsed_LungCancerScreening_puf16['National Provider Identifier'] == 1003027376].head()"
   ]
  }
 ],
 "metadata": {
  "kernelspec": {
   "display_name": "Python 3",
   "language": "python",
   "name": "python3"
  },
  "language_info": {
   "codemirror_mode": {
    "name": "ipython",
    "version": 3
   },
   "file_extension": ".py",
   "mimetype": "text/x-python",
   "name": "python",
   "nbconvert_exporter": "python",
   "pygments_lexer": "ipython3",
   "version": "3.6.8"
  }
 },
 "nbformat": 4,
 "nbformat_minor": 2
}
