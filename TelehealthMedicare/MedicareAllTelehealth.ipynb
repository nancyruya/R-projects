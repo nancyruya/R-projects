{
 "cells": [
  {
   "cell_type": "code",
   "execution_count": 1,
   "metadata": {},
   "outputs": [
    {
     "name": "stderr",
     "output_type": "stream",
     "text": [
      "Updating HTML index of packages in '.Library'\n",
      "Making 'packages.html' ... done\n"
     ]
    }
   ],
   "source": [
    "install.packages(\"dplyr\")"
   ]
  },
  {
   "cell_type": "code",
   "execution_count": 2,
   "metadata": {},
   "outputs": [
    {
     "name": "stderr",
     "output_type": "stream",
     "text": [
      "Updating HTML index of packages in '.Library'\n",
      "Making 'packages.html' ... done\n"
     ]
    }
   ],
   "source": [
    "install.packages(\"ggplot2\")"
   ]
  },
  {
   "cell_type": "code",
   "execution_count": 3,
   "metadata": {},
   "outputs": [
    {
     "name": "stderr",
     "output_type": "stream",
     "text": [
      "Updating HTML index of packages in '.Library'\n",
      "Making 'packages.html' ... done\n"
     ]
    }
   ],
   "source": [
    "install.packages(\"usmap\")"
   ]
  },
  {
   "cell_type": "code",
   "execution_count": 54,
   "metadata": {},
   "outputs": [
    {
     "name": "stderr",
     "output_type": "stream",
     "text": [
      "Updating HTML index of packages in '.Library'\n",
      "Making 'packages.html' ... done\n"
     ]
    }
   ],
   "source": [
    "install.packages(\"scales\")"
   ]
  },
  {
   "cell_type": "code",
   "execution_count": 4,
   "metadata": {},
   "outputs": [],
   "source": [
    "library(usmap)"
   ]
  },
  {
   "cell_type": "code",
   "execution_count": 5,
   "metadata": {},
   "outputs": [],
   "source": [
    "library(ggplot2)"
   ]
  },
  {
   "cell_type": "code",
   "execution_count": 6,
   "metadata": {},
   "outputs": [
    {
     "name": "stderr",
     "output_type": "stream",
     "text": [
      "\n",
      "Attaching package: ‘dplyr’\n",
      "\n",
      "The following objects are masked from ‘package:stats’:\n",
      "\n",
      "    filter, lag\n",
      "\n",
      "The following objects are masked from ‘package:base’:\n",
      "\n",
      "    intersect, setdiff, setequal, union\n",
      "\n"
     ]
    }
   ],
   "source": [
    "library(dplyr)"
   ]
  },
  {
   "cell_type": "code",
   "execution_count": 7,
   "metadata": {},
   "outputs": [],
   "source": [
    "#Extracted HCPCS code from Physician and Other Supplier Data CY 2017 base of LIST OF MEDICARE TELEHEALTH SERVICES in CY 2017, saved as MedicareAllTelehealth2017.csv\n",
    "setwd (\"/Users/ruyazhang/downloads\")"
   ]
  },
  {
   "cell_type": "code",
   "execution_count": 49,
   "metadata": {},
   "outputs": [],
   "source": [
    "dat1 <- read.csv(\"MedicareAllTelehealth2017.csv\")"
   ]
  },
  {
   "cell_type": "code",
   "execution_count": 50,
   "metadata": {},
   "outputs": [],
   "source": [
    "#medicare1 <- dat1[,c(\"State\", \"Gender\", \"Credentials\", \"City\", \"ProviderType\")]\n",
    "#summary(medicare1, maxsum = 100)"
   ]
  },
  {
   "cell_type": "code",
   "execution_count": 51,
   "metadata": {},
   "outputs": [],
   "source": [
    "#aggregate the total NumberServices in 59 states\n",
    "aggNumServices <- aggregate(NumberServices ~ State, dat1, sum)"
   ]
  },
  {
   "cell_type": "code",
   "execution_count": 52,
   "metadata": {},
   "outputs": [
    {
     "data": {
      "text/html": [
       "<table>\n",
       "<thead><tr><th></th><th scope=col>State</th><th scope=col>NumberServices</th></tr></thead>\n",
       "<tbody>\n",
       "\t<tr><th scope=row>4</th><td>AP        </td><td>     589.0</td></tr>\n",
       "\t<tr><th scope=row>1</th><td>AE        </td><td>    4460.0</td></tr>\n",
       "\t<tr><th scope=row>58</th><td>XX        </td><td>    4492.0</td></tr>\n",
       "\t<tr><th scope=row>29</th><td>MP        </td><td>    4804.0</td></tr>\n",
       "\t<tr><th scope=row>59</th><td>ZZ        </td><td>    5811.0</td></tr>\n",
       "\t<tr><th scope=row>14</th><td>GU        </td><td>   19324.0</td></tr>\n",
       "\t<tr><th scope=row>52</th><td>VI        </td><td>   25649.0</td></tr>\n",
       "\t<tr><th scope=row>2</th><td>AK        </td><td>  194642.0</td></tr>\n",
       "\t<tr><th scope=row>57</th><td>WY        </td><td>  216437.5</td></tr>\n",
       "\t<tr><th scope=row>44</th><td>PR        </td><td>  223525.0</td></tr>\n",
       "\t<tr><th scope=row>53</th><td>VT        </td><td>  304152.0</td></tr>\n",
       "\t<tr><th scope=row>33</th><td>ND        </td><td>  320992.0</td></tr>\n",
       "\t<tr><th scope=row>47</th><td>SD        </td><td>  401471.5</td></tr>\n",
       "\t<tr><th scope=row>10</th><td>DC        </td><td>  408470.0</td></tr>\n",
       "\t<tr><th scope=row>15</th><td>HI        </td><td>  422287.0</td></tr>\n",
       "\t<tr><th scope=row>31</th><td>MT        </td><td>  423918.0</td></tr>\n",
       "\t<tr><th scope=row>45</th><td>RI        </td><td>  479622.0</td></tr>\n",
       "\t<tr><th scope=row>17</th><td>ID        </td><td>  552327.0</td></tr>\n",
       "\t<tr><th scope=row>25</th><td>ME        </td><td>  671258.0</td></tr>\n",
       "\t<tr><th scope=row>37</th><td>NM        </td><td>  705928.0</td></tr>\n",
       "\t<tr><th scope=row>50</th><td>UT        </td><td>  751851.0</td></tr>\n",
       "\t<tr><th scope=row>11</th><td>DE        </td><td>  777223.0</td></tr>\n",
       "\t<tr><th scope=row>35</th><td>NH        </td><td>  818603.0</td></tr>\n",
       "\t<tr><th scope=row>34</th><td>NE        </td><td> 1043195.0</td></tr>\n",
       "\t<tr><th scope=row>56</th><td>WV        </td><td> 1053569.5</td></tr>\n",
       "\t<tr><th scope=row>42</th><td>OR        </td><td> 1130661.0</td></tr>\n",
       "\t<tr><th scope=row>27</th><td>MN        </td><td> 1327646.7</td></tr>\n",
       "\t<tr><th scope=row>38</th><td>NV        </td><td> 1422497.3</td></tr>\n",
       "\t<tr><th scope=row>16</th><td>IA        </td><td> 1503018.0</td></tr>\n",
       "\t<tr><th scope=row>20</th><td>KS        </td><td> 1529122.0</td></tr>\n",
       "\t<tr><th scope=row>8</th><td>CO        </td><td> 1821354.0</td></tr>\n",
       "\t<tr><th scope=row>30</th><td>MS        </td><td> 1825334.0</td></tr>\n",
       "\t<tr><th scope=row>5</th><td>AR        </td><td> 1849179.0</td></tr>\n",
       "\t<tr><th scope=row>55</th><td>WI        </td><td> 2176240.0</td></tr>\n",
       "\t<tr><th scope=row>9</th><td>CT        </td><td> 2276817.5</td></tr>\n",
       "\t<tr><th scope=row>41</th><td>OK        </td><td> 2317365.5</td></tr>\n",
       "\t<tr><th scope=row>22</th><td>LA        </td><td> 2557490.3</td></tr>\n",
       "\t<tr><th scope=row>54</th><td>WA        </td><td> 2571241.1</td></tr>\n",
       "\t<tr><th scope=row>21</th><td>KY        </td><td> 2723987.1</td></tr>\n",
       "\t<tr><th scope=row>3</th><td>AL        </td><td> 2785515.5</td></tr>\n",
       "\t<tr><th scope=row>46</th><td>SC        </td><td> 2930909.1</td></tr>\n",
       "\t<tr><th scope=row>28</th><td>MO        </td><td> 3113438.0</td></tr>\n",
       "\t<tr><th scope=row>6</th><td>AZ        </td><td> 3341049.5</td></tr>\n",
       "\t<tr><th scope=row>19</th><td>IN        </td><td> 3644839.0</td></tr>\n",
       "\t<tr><th scope=row>24</th><td>MD        </td><td> 3895843.0</td></tr>\n",
       "\t<tr><th scope=row>48</th><td>TN        </td><td> 4052842.0</td></tr>\n",
       "\t<tr><th scope=row>23</th><td>MA        </td><td> 4536808.0</td></tr>\n",
       "\t<tr><th scope=row>51</th><td>VA        </td><td> 4648452.0</td></tr>\n",
       "\t<tr><th scope=row>13</th><td>GA        </td><td> 4821690.0</td></tr>\n",
       "\t<tr><th scope=row>26</th><td>MI        </td><td> 5419768.9</td></tr>\n",
       "\t<tr><th scope=row>32</th><td>NC        </td><td> 5694534.8</td></tr>\n",
       "\t<tr><th scope=row>40</th><td>OH        </td><td> 5871589.6</td></tr>\n",
       "\t<tr><th scope=row>36</th><td>NJ        </td><td> 6615900.7</td></tr>\n",
       "\t<tr><th scope=row>18</th><td>IL        </td><td> 6910017.8</td></tr>\n",
       "\t<tr><th scope=row>43</th><td>PA        </td><td> 7046679.7</td></tr>\n",
       "\t<tr><th scope=row>39</th><td>NY        </td><td>11081508.5</td></tr>\n",
       "\t<tr><th scope=row>49</th><td>TX        </td><td>11769399.1</td></tr>\n",
       "\t<tr><th scope=row>7</th><td>CA        </td><td>14406425.5</td></tr>\n",
       "\t<tr><th scope=row>12</th><td>FL        </td><td>14733962.0</td></tr>\n",
       "</tbody>\n",
       "</table>\n"
      ],
      "text/latex": [
       "\\begin{tabular}{r|ll}\n",
       "  & State & NumberServices\\\\\n",
       "\\hline\n",
       "\t4 & AP         &      589.0\\\\\n",
       "\t1 & AE         &     4460.0\\\\\n",
       "\t58 & XX         &     4492.0\\\\\n",
       "\t29 & MP         &     4804.0\\\\\n",
       "\t59 & ZZ         &     5811.0\\\\\n",
       "\t14 & GU         &    19324.0\\\\\n",
       "\t52 & VI         &    25649.0\\\\\n",
       "\t2 & AK         &   194642.0\\\\\n",
       "\t57 & WY         &   216437.5\\\\\n",
       "\t44 & PR         &   223525.0\\\\\n",
       "\t53 & VT         &   304152.0\\\\\n",
       "\t33 & ND         &   320992.0\\\\\n",
       "\t47 & SD         &   401471.5\\\\\n",
       "\t10 & DC         &   408470.0\\\\\n",
       "\t15 & HI         &   422287.0\\\\\n",
       "\t31 & MT         &   423918.0\\\\\n",
       "\t45 & RI         &   479622.0\\\\\n",
       "\t17 & ID         &   552327.0\\\\\n",
       "\t25 & ME         &   671258.0\\\\\n",
       "\t37 & NM         &   705928.0\\\\\n",
       "\t50 & UT         &   751851.0\\\\\n",
       "\t11 & DE         &   777223.0\\\\\n",
       "\t35 & NH         &   818603.0\\\\\n",
       "\t34 & NE         &  1043195.0\\\\\n",
       "\t56 & WV         &  1053569.5\\\\\n",
       "\t42 & OR         &  1130661.0\\\\\n",
       "\t27 & MN         &  1327646.7\\\\\n",
       "\t38 & NV         &  1422497.3\\\\\n",
       "\t16 & IA         &  1503018.0\\\\\n",
       "\t20 & KS         &  1529122.0\\\\\n",
       "\t8 & CO         &  1821354.0\\\\\n",
       "\t30 & MS         &  1825334.0\\\\\n",
       "\t5 & AR         &  1849179.0\\\\\n",
       "\t55 & WI         &  2176240.0\\\\\n",
       "\t9 & CT         &  2276817.5\\\\\n",
       "\t41 & OK         &  2317365.5\\\\\n",
       "\t22 & LA         &  2557490.3\\\\\n",
       "\t54 & WA         &  2571241.1\\\\\n",
       "\t21 & KY         &  2723987.1\\\\\n",
       "\t3 & AL         &  2785515.5\\\\\n",
       "\t46 & SC         &  2930909.1\\\\\n",
       "\t28 & MO         &  3113438.0\\\\\n",
       "\t6 & AZ         &  3341049.5\\\\\n",
       "\t19 & IN         &  3644839.0\\\\\n",
       "\t24 & MD         &  3895843.0\\\\\n",
       "\t48 & TN         &  4052842.0\\\\\n",
       "\t23 & MA         &  4536808.0\\\\\n",
       "\t51 & VA         &  4648452.0\\\\\n",
       "\t13 & GA         &  4821690.0\\\\\n",
       "\t26 & MI         &  5419768.9\\\\\n",
       "\t32 & NC         &  5694534.8\\\\\n",
       "\t40 & OH         &  5871589.6\\\\\n",
       "\t36 & NJ         &  6615900.7\\\\\n",
       "\t18 & IL         &  6910017.8\\\\\n",
       "\t43 & PA         &  7046679.7\\\\\n",
       "\t39 & NY         & 11081508.5\\\\\n",
       "\t49 & TX         & 11769399.1\\\\\n",
       "\t7 & CA         & 14406425.5\\\\\n",
       "\t12 & FL         & 14733962.0\\\\\n",
       "\\end{tabular}\n"
      ],
      "text/markdown": [
       "\n",
       "| <!--/--> | State | NumberServices |\n",
       "|---|---|---|\n",
       "| 4 | AP         |      589.0 |\n",
       "| 1 | AE         |     4460.0 |\n",
       "| 58 | XX         |     4492.0 |\n",
       "| 29 | MP         |     4804.0 |\n",
       "| 59 | ZZ         |     5811.0 |\n",
       "| 14 | GU         |    19324.0 |\n",
       "| 52 | VI         |    25649.0 |\n",
       "| 2 | AK         |   194642.0 |\n",
       "| 57 | WY         |   216437.5 |\n",
       "| 44 | PR         |   223525.0 |\n",
       "| 53 | VT         |   304152.0 |\n",
       "| 33 | ND         |   320992.0 |\n",
       "| 47 | SD         |   401471.5 |\n",
       "| 10 | DC         |   408470.0 |\n",
       "| 15 | HI         |   422287.0 |\n",
       "| 31 | MT         |   423918.0 |\n",
       "| 45 | RI         |   479622.0 |\n",
       "| 17 | ID         |   552327.0 |\n",
       "| 25 | ME         |   671258.0 |\n",
       "| 37 | NM         |   705928.0 |\n",
       "| 50 | UT         |   751851.0 |\n",
       "| 11 | DE         |   777223.0 |\n",
       "| 35 | NH         |   818603.0 |\n",
       "| 34 | NE         |  1043195.0 |\n",
       "| 56 | WV         |  1053569.5 |\n",
       "| 42 | OR         |  1130661.0 |\n",
       "| 27 | MN         |  1327646.7 |\n",
       "| 38 | NV         |  1422497.3 |\n",
       "| 16 | IA         |  1503018.0 |\n",
       "| 20 | KS         |  1529122.0 |\n",
       "| 8 | CO         |  1821354.0 |\n",
       "| 30 | MS         |  1825334.0 |\n",
       "| 5 | AR         |  1849179.0 |\n",
       "| 55 | WI         |  2176240.0 |\n",
       "| 9 | CT         |  2276817.5 |\n",
       "| 41 | OK         |  2317365.5 |\n",
       "| 22 | LA         |  2557490.3 |\n",
       "| 54 | WA         |  2571241.1 |\n",
       "| 21 | KY         |  2723987.1 |\n",
       "| 3 | AL         |  2785515.5 |\n",
       "| 46 | SC         |  2930909.1 |\n",
       "| 28 | MO         |  3113438.0 |\n",
       "| 6 | AZ         |  3341049.5 |\n",
       "| 19 | IN         |  3644839.0 |\n",
       "| 24 | MD         |  3895843.0 |\n",
       "| 48 | TN         |  4052842.0 |\n",
       "| 23 | MA         |  4536808.0 |\n",
       "| 51 | VA         |  4648452.0 |\n",
       "| 13 | GA         |  4821690.0 |\n",
       "| 26 | MI         |  5419768.9 |\n",
       "| 32 | NC         |  5694534.8 |\n",
       "| 40 | OH         |  5871589.6 |\n",
       "| 36 | NJ         |  6615900.7 |\n",
       "| 18 | IL         |  6910017.8 |\n",
       "| 43 | PA         |  7046679.7 |\n",
       "| 39 | NY         | 11081508.5 |\n",
       "| 49 | TX         | 11769399.1 |\n",
       "| 7 | CA         | 14406425.5 |\n",
       "| 12 | FL         | 14733962.0 |\n",
       "\n"
      ],
      "text/plain": [
       "   State NumberServices\n",
       "4  AP         589.0    \n",
       "1  AE        4460.0    \n",
       "58 XX        4492.0    \n",
       "29 MP        4804.0    \n",
       "59 ZZ        5811.0    \n",
       "14 GU       19324.0    \n",
       "52 VI       25649.0    \n",
       "2  AK      194642.0    \n",
       "57 WY      216437.5    \n",
       "44 PR      223525.0    \n",
       "53 VT      304152.0    \n",
       "33 ND      320992.0    \n",
       "47 SD      401471.5    \n",
       "10 DC      408470.0    \n",
       "15 HI      422287.0    \n",
       "31 MT      423918.0    \n",
       "45 RI      479622.0    \n",
       "17 ID      552327.0    \n",
       "25 ME      671258.0    \n",
       "37 NM      705928.0    \n",
       "50 UT      751851.0    \n",
       "11 DE      777223.0    \n",
       "35 NH      818603.0    \n",
       "34 NE     1043195.0    \n",
       "56 WV     1053569.5    \n",
       "42 OR     1130661.0    \n",
       "27 MN     1327646.7    \n",
       "38 NV     1422497.3    \n",
       "16 IA     1503018.0    \n",
       "20 KS     1529122.0    \n",
       "8  CO     1821354.0    \n",
       "30 MS     1825334.0    \n",
       "5  AR     1849179.0    \n",
       "55 WI     2176240.0    \n",
       "9  CT     2276817.5    \n",
       "41 OK     2317365.5    \n",
       "22 LA     2557490.3    \n",
       "54 WA     2571241.1    \n",
       "21 KY     2723987.1    \n",
       "3  AL     2785515.5    \n",
       "46 SC     2930909.1    \n",
       "28 MO     3113438.0    \n",
       "6  AZ     3341049.5    \n",
       "19 IN     3644839.0    \n",
       "24 MD     3895843.0    \n",
       "48 TN     4052842.0    \n",
       "23 MA     4536808.0    \n",
       "51 VA     4648452.0    \n",
       "13 GA     4821690.0    \n",
       "26 MI     5419768.9    \n",
       "32 NC     5694534.8    \n",
       "40 OH     5871589.6    \n",
       "36 NJ     6615900.7    \n",
       "18 IL     6910017.8    \n",
       "43 PA     7046679.7    \n",
       "39 NY    11081508.5    \n",
       "49 TX    11769399.1    \n",
       "7  CA    14406425.5    \n",
       "12 FL    14733962.0    "
      ]
     },
     "metadata": {},
     "output_type": "display_data"
    }
   ],
   "source": [
    "aggNumServices[order(aggNumServices$NumberServices),]"
   ]
  },
  {
   "cell_type": "code",
   "execution_count": 53,
   "metadata": {},
   "outputs": [],
   "source": [
    "#Summary statistic (mean, standard deviation, median, Interquartile Range(25th and 75th percentile), min,max)\n",
    "#summary(aggNumServices)"
   ]
  },
  {
   "cell_type": "code",
   "execution_count": 54,
   "metadata": {},
   "outputs": [],
   "source": [
    "#read dataset from CMS for medicare benificiaries(FFS) CY 2017\n",
    "setwd (\"/Users/ruyazhang/downloads\")"
   ]
  },
  {
   "cell_type": "code",
   "execution_count": 55,
   "metadata": {},
   "outputs": [],
   "source": [
    "dat2 <- read.csv(\"StateCountyFFS2017.csv\")"
   ]
  },
  {
   "cell_type": "code",
   "execution_count": 56,
   "metadata": {},
   "outputs": [],
   "source": [
    "# The data contains county level, extrated State Total FFS population, 53 states\n",
    "stateBeneficiaries <- select(filter(dat2, County == \"STATE TOTAL\"), c(State, Beneficiaries) )"
   ]
  },
  {
   "cell_type": "code",
   "execution_count": 57,
   "metadata": {},
   "outputs": [],
   "source": [
    "#print(stateBeneficiaries)"
   ]
  },
  {
   "cell_type": "code",
   "execution_count": 58,
   "metadata": {},
   "outputs": [],
   "source": [
    "#df <- merge(x=stateBeneficiaries, y=aggNumServices, by = \"State\", all=TRUE, sort=TRUE)"
   ]
  },
  {
   "cell_type": "code",
   "execution_count": 59,
   "metadata": {},
   "outputs": [],
   "source": [
    "#merge is a function in dplyr package, this merge reduced from 55 states in telehealth data to 53 states from FFS\n",
    "df <- merge(x=stateBeneficiaries, y=aggNumServices, by = \"State\")"
   ]
  },
  {
   "cell_type": "code",
   "execution_count": 60,
   "metadata": {},
   "outputs": [],
   "source": [
    "#Culculation NumberServices/Beneficiaries(FFS) and converted number to  numeric\n",
    "df$ServicePerFFS <- df[,3]/as.numeric(as.character(df[,2]))"
   ]
  },
  {
   "cell_type": "code",
   "execution_count": 23,
   "metadata": {},
   "outputs": [],
   "source": [
    "#print(df)"
   ]
  },
  {
   "cell_type": "code",
   "execution_count": 73,
   "metadata": {},
   "outputs": [],
   "source": [
    "#write.csv(df, \"stateAll.csv\")"
   ]
  },
  {
   "cell_type": "code",
   "execution_count": 74,
   "metadata": {},
   "outputs": [],
   "source": [
    "#setwd(\"/Users/ruyazhang/downloads\")"
   ]
  },
  {
   "cell_type": "code",
   "execution_count": 75,
   "metadata": {},
   "outputs": [],
   "source": [
    "#df <- read.csv(\"stateAll.csv\")"
   ]
  },
  {
   "cell_type": "code",
   "execution_count": 76,
   "metadata": {},
   "outputs": [],
   "source": [
    "#df <- df[,-1]"
   ]
  },
  {
   "cell_type": "code",
   "execution_count": 61,
   "metadata": {},
   "outputs": [],
   "source": [
    "#rename the 4 columns in below format, in order to merge to Usmap dataset\n",
    "names(df) <- c(\"abbr\",\"FFSpop\",\"Service\",\"ServicePerFFS\")"
   ]
  },
  {
   "cell_type": "code",
   "execution_count": 62,
   "metadata": {},
   "outputs": [],
   "source": [
    "#merge to Usmap dataset by \"abbr\"\n",
    "df <- merge(statepop, df, by=\"abbr\")"
   ]
  },
  {
   "cell_type": "code",
   "execution_count": 79,
   "metadata": {},
   "outputs": [],
   "source": [
    "#df$ServicePerFFS <- df$ServicePerFFS *100"
   ]
  },
  {
   "cell_type": "code",
   "execution_count": 95,
   "metadata": {},
   "outputs": [],
   "source": [
    "#print(df)"
   ]
  },
  {
   "cell_type": "code",
   "execution_count": 26,
   "metadata": {},
   "outputs": [],
   "source": [
    "#plot_usmap(data = df, values = \"ServicePerFFS\", color = \"red\") + \n",
    "#  scale_fill_continuous(name = \"ServicePerFFS1k (2017)\", \n",
    "#                        type = \"viridis\", \n",
    "#                        labels = paste(round(quantile(df$ServicePerFFS),2),\n",
    "#                                       names(quantile(df$ServicePerFFS)), \"\")) + \n",
    "#  theme(legend.position = \"right\") "
   ]
  },
  {
   "cell_type": "code",
   "execution_count": 82,
   "metadata": {},
   "outputs": [],
   "source": [
    "#setwd (\"/Users/ruyazhang/downloads\")"
   ]
  },
  {
   "cell_type": "code",
   "execution_count": 83,
   "metadata": {},
   "outputs": [],
   "source": [
    "#dat1 <- read.csv(\"MedicareAllTelehealth2017.csv\")"
   ]
  },
  {
   "cell_type": "code",
   "execution_count": 63,
   "metadata": {},
   "outputs": [
    {
     "name": "stderr",
     "output_type": "stream",
     "text": [
      "`summarise()` ungrouping output (override with `.groups` argument)\n"
     ]
    }
   ],
   "source": [
    "#aggregate unique NPI from MedicareAllTelehealth2017.csv dataset for total MD in 55 states\n",
    "UniqueNPI <- summarize(group_by(dat1, State), unique_NPI = n_distinct(NPI))"
   ]
  },
  {
   "cell_type": "code",
   "execution_count": 64,
   "metadata": {},
   "outputs": [],
   "source": [
    "#Rename to below\n",
    "names(UniqueNPI) <- c(\"abbr\",\"NumberOfProvider\")"
   ]
  },
  {
   "cell_type": "code",
   "execution_count": 65,
   "metadata": {},
   "outputs": [],
   "source": [
    "#merge total MD(providers) to df\n",
    "df <- merge(df, UniqueNPI, by=\"abbr\")"
   ]
  },
  {
   "cell_type": "code",
   "execution_count": 30,
   "metadata": {},
   "outputs": [],
   "source": [
    "#plot_usmap(data = df, values = \"NumberOfProvider\", color = \"red\") + \n",
    "#  scale_fill_continuous(name = \"NumberOfProvider(2017)\", type = \"viridis\", label = scales::comma) + \n",
    "#  theme(legend.position = \"right\")"
   ]
  },
  {
   "cell_type": "code",
   "execution_count": 66,
   "metadata": {},
   "outputs": [],
   "source": [
    "#Culculation Provider/Beneficiaries(FFS) and converted number to numeric\n",
    "df$ProviderPerFFS <- df[,8]/as.numeric(as.character(df[,5]))\n",
    "#df$ProviderPerFFS <- df$ProviderPerFFS *10000"
   ]
  },
  {
   "cell_type": "code",
   "execution_count": 33,
   "metadata": {},
   "outputs": [],
   "source": [
    "#plot_usmap(data = df, values = \"ProvidersPerFFS\", color = \"red\") + \n",
    "#  scale_fill_continuous(name = \"ProvidersPerFFS10k(2017)\", type = \"viridis\", label = scales::comma) + \n",
    "#  theme(legend.position = \"right\")"
   ]
  },
  {
   "cell_type": "code",
   "execution_count": 67,
   "metadata": {},
   "outputs": [],
   "source": [
    "#Added new column for the year of the datasets\n",
    "df$Year <- 2017"
   ]
  },
  {
   "cell_type": "code",
   "execution_count": 68,
   "metadata": {},
   "outputs": [],
   "source": [
    "#Extracted HCPCS code from Physician and Other Supplier Data CY 2016 base of LIST OF MEDICARE TELEHEALTH SERVICES in CY 2016, saved as MedicareAllTelehealth2016.csv\n",
    "setwd (\"/Users/ruyazhang/downloads\")\n",
    "dat3 <- read.csv(\"MedicareAllTelehealth2016.csv\")"
   ]
  },
  {
   "cell_type": "code",
   "execution_count": 69,
   "metadata": {},
   "outputs": [
    {
     "data": {
      "text/html": [
       "<table>\n",
       "<thead><tr><th></th><th scope=col>State</th><th scope=col>NumberServices</th></tr></thead>\n",
       "<tbody>\n",
       "\t<tr><th scope=row>1</th><td>AA        </td><td>     156.0</td></tr>\n",
       "\t<tr><th scope=row>5</th><td>AP        </td><td>    1204.0</td></tr>\n",
       "\t<tr><th scope=row>59</th><td>XX        </td><td>    2119.0</td></tr>\n",
       "\t<tr><th scope=row>2</th><td>AE        </td><td>    2514.0</td></tr>\n",
       "\t<tr><th scope=row>30</th><td>MP        </td><td>    3134.0</td></tr>\n",
       "\t<tr><th scope=row>60</th><td>ZZ        </td><td>    6363.0</td></tr>\n",
       "\t<tr><th scope=row>53</th><td>VI        </td><td>   22931.0</td></tr>\n",
       "\t<tr><th scope=row>15</th><td>GU        </td><td>   24441.0</td></tr>\n",
       "\t<tr><th scope=row>3</th><td>AK        </td><td>  192151.0</td></tr>\n",
       "\t<tr><th scope=row>58</th><td>WY        </td><td>  223518.0</td></tr>\n",
       "\t<tr><th scope=row>45</th><td>PR        </td><td>  254953.0</td></tr>\n",
       "\t<tr><th scope=row>54</th><td>VT        </td><td>  268980.0</td></tr>\n",
       "\t<tr><th scope=row>34</th><td>ND        </td><td>  332001.0</td></tr>\n",
       "\t<tr><th scope=row>11</th><td>DC        </td><td>  390166.0</td></tr>\n",
       "\t<tr><th scope=row>48</th><td>SD        </td><td>  408603.0</td></tr>\n",
       "\t<tr><th scope=row>16</th><td>HI        </td><td>  408631.0</td></tr>\n",
       "\t<tr><th scope=row>32</th><td>MT        </td><td>  424188.0</td></tr>\n",
       "\t<tr><th scope=row>46</th><td>RI        </td><td>  492529.0</td></tr>\n",
       "\t<tr><th scope=row>18</th><td>ID        </td><td>  551387.0</td></tr>\n",
       "\t<tr><th scope=row>26</th><td>ME        </td><td>  639843.0</td></tr>\n",
       "\t<tr><th scope=row>36</th><td>NH        </td><td>  739117.0</td></tr>\n",
       "\t<tr><th scope=row>38</th><td>NM        </td><td>  747460.0</td></tr>\n",
       "\t<tr><th scope=row>51</th><td>UT        </td><td>  768064.5</td></tr>\n",
       "\t<tr><th scope=row>12</th><td>DE        </td><td>  824533.0</td></tr>\n",
       "\t<tr><th scope=row>35</th><td>NE        </td><td> 1065156.0</td></tr>\n",
       "\t<tr><th scope=row>57</th><td>WV        </td><td> 1132236.1</td></tr>\n",
       "\t<tr><th scope=row>43</th><td>OR        </td><td> 1158607.0</td></tr>\n",
       "\t<tr><th scope=row>28</th><td>MN        </td><td> 1384597.0</td></tr>\n",
       "\t<tr><th scope=row>39</th><td>NV        </td><td> 1486563.0</td></tr>\n",
       "\t<tr><th scope=row>17</th><td>IA        </td><td> 1532144.7</td></tr>\n",
       "\t<tr><th scope=row>21</th><td>KS        </td><td> 1602421.0</td></tr>\n",
       "\t<tr><th scope=row>9</th><td>CO        </td><td> 1799489.0</td></tr>\n",
       "\t<tr><th scope=row>31</th><td>MS        </td><td> 1877468.0</td></tr>\n",
       "\t<tr><th scope=row>6</th><td>AR        </td><td> 1886907.0</td></tr>\n",
       "\t<tr><th scope=row>10</th><td>CT        </td><td> 2001486.0</td></tr>\n",
       "\t<tr><th scope=row>56</th><td>WI        </td><td> 2279135.2</td></tr>\n",
       "\t<tr><th scope=row>42</th><td>OK        </td><td> 2337150.0</td></tr>\n",
       "\t<tr><th scope=row>55</th><td>WA        </td><td> 2660841.0</td></tr>\n",
       "\t<tr><th scope=row>23</th><td>LA        </td><td> 2714799.0</td></tr>\n",
       "\t<tr><th scope=row>22</th><td>KY        </td><td> 2818832.6</td></tr>\n",
       "\t<tr><th scope=row>47</th><td>SC        </td><td> 3049724.8</td></tr>\n",
       "\t<tr><th scope=row>29</th><td>MO        </td><td> 3196821.0</td></tr>\n",
       "\t<tr><th scope=row>4</th><td>AL        </td><td> 3300998.1</td></tr>\n",
       "\t<tr><th scope=row>7</th><td>AZ        </td><td> 3369159.6</td></tr>\n",
       "\t<tr><th scope=row>20</th><td>IN        </td><td> 3924589.0</td></tr>\n",
       "\t<tr><th scope=row>25</th><td>MD        </td><td> 3956240.6</td></tr>\n",
       "\t<tr><th scope=row>24</th><td>MA        </td><td> 4067563.2</td></tr>\n",
       "\t<tr><th scope=row>49</th><td>TN        </td><td> 4237917.5</td></tr>\n",
       "\t<tr><th scope=row>52</th><td>VA        </td><td> 4736989.6</td></tr>\n",
       "\t<tr><th scope=row>14</th><td>GA        </td><td> 4913503.0</td></tr>\n",
       "\t<tr><th scope=row>33</th><td>NC        </td><td> 5729377.5</td></tr>\n",
       "\t<tr><th scope=row>27</th><td>MI        </td><td> 5771663.6</td></tr>\n",
       "\t<tr><th scope=row>37</th><td>NJ        </td><td> 6211320.1</td></tr>\n",
       "\t<tr><th scope=row>41</th><td>OH        </td><td> 6228150.6</td></tr>\n",
       "\t<tr><th scope=row>19</th><td>IL        </td><td> 7265792.1</td></tr>\n",
       "\t<tr><th scope=row>44</th><td>PA        </td><td> 7311765.3</td></tr>\n",
       "\t<tr><th scope=row>40</th><td>NY        </td><td>11667493.2</td></tr>\n",
       "\t<tr><th scope=row>50</th><td>TX        </td><td>12181466.1</td></tr>\n",
       "\t<tr><th scope=row>8</th><td>CA        </td><td>14754450.6</td></tr>\n",
       "\t<tr><th scope=row>13</th><td>FL        </td><td>15222931.8</td></tr>\n",
       "</tbody>\n",
       "</table>\n"
      ],
      "text/latex": [
       "\\begin{tabular}{r|ll}\n",
       "  & State & NumberServices\\\\\n",
       "\\hline\n",
       "\t1 & AA         &      156.0\\\\\n",
       "\t5 & AP         &     1204.0\\\\\n",
       "\t59 & XX         &     2119.0\\\\\n",
       "\t2 & AE         &     2514.0\\\\\n",
       "\t30 & MP         &     3134.0\\\\\n",
       "\t60 & ZZ         &     6363.0\\\\\n",
       "\t53 & VI         &    22931.0\\\\\n",
       "\t15 & GU         &    24441.0\\\\\n",
       "\t3 & AK         &   192151.0\\\\\n",
       "\t58 & WY         &   223518.0\\\\\n",
       "\t45 & PR         &   254953.0\\\\\n",
       "\t54 & VT         &   268980.0\\\\\n",
       "\t34 & ND         &   332001.0\\\\\n",
       "\t11 & DC         &   390166.0\\\\\n",
       "\t48 & SD         &   408603.0\\\\\n",
       "\t16 & HI         &   408631.0\\\\\n",
       "\t32 & MT         &   424188.0\\\\\n",
       "\t46 & RI         &   492529.0\\\\\n",
       "\t18 & ID         &   551387.0\\\\\n",
       "\t26 & ME         &   639843.0\\\\\n",
       "\t36 & NH         &   739117.0\\\\\n",
       "\t38 & NM         &   747460.0\\\\\n",
       "\t51 & UT         &   768064.5\\\\\n",
       "\t12 & DE         &   824533.0\\\\\n",
       "\t35 & NE         &  1065156.0\\\\\n",
       "\t57 & WV         &  1132236.1\\\\\n",
       "\t43 & OR         &  1158607.0\\\\\n",
       "\t28 & MN         &  1384597.0\\\\\n",
       "\t39 & NV         &  1486563.0\\\\\n",
       "\t17 & IA         &  1532144.7\\\\\n",
       "\t21 & KS         &  1602421.0\\\\\n",
       "\t9 & CO         &  1799489.0\\\\\n",
       "\t31 & MS         &  1877468.0\\\\\n",
       "\t6 & AR         &  1886907.0\\\\\n",
       "\t10 & CT         &  2001486.0\\\\\n",
       "\t56 & WI         &  2279135.2\\\\\n",
       "\t42 & OK         &  2337150.0\\\\\n",
       "\t55 & WA         &  2660841.0\\\\\n",
       "\t23 & LA         &  2714799.0\\\\\n",
       "\t22 & KY         &  2818832.6\\\\\n",
       "\t47 & SC         &  3049724.8\\\\\n",
       "\t29 & MO         &  3196821.0\\\\\n",
       "\t4 & AL         &  3300998.1\\\\\n",
       "\t7 & AZ         &  3369159.6\\\\\n",
       "\t20 & IN         &  3924589.0\\\\\n",
       "\t25 & MD         &  3956240.6\\\\\n",
       "\t24 & MA         &  4067563.2\\\\\n",
       "\t49 & TN         &  4237917.5\\\\\n",
       "\t52 & VA         &  4736989.6\\\\\n",
       "\t14 & GA         &  4913503.0\\\\\n",
       "\t33 & NC         &  5729377.5\\\\\n",
       "\t27 & MI         &  5771663.6\\\\\n",
       "\t37 & NJ         &  6211320.1\\\\\n",
       "\t41 & OH         &  6228150.6\\\\\n",
       "\t19 & IL         &  7265792.1\\\\\n",
       "\t44 & PA         &  7311765.3\\\\\n",
       "\t40 & NY         & 11667493.2\\\\\n",
       "\t50 & TX         & 12181466.1\\\\\n",
       "\t8 & CA         & 14754450.6\\\\\n",
       "\t13 & FL         & 15222931.8\\\\\n",
       "\\end{tabular}\n"
      ],
      "text/markdown": [
       "\n",
       "| <!--/--> | State | NumberServices |\n",
       "|---|---|---|\n",
       "| 1 | AA         |      156.0 |\n",
       "| 5 | AP         |     1204.0 |\n",
       "| 59 | XX         |     2119.0 |\n",
       "| 2 | AE         |     2514.0 |\n",
       "| 30 | MP         |     3134.0 |\n",
       "| 60 | ZZ         |     6363.0 |\n",
       "| 53 | VI         |    22931.0 |\n",
       "| 15 | GU         |    24441.0 |\n",
       "| 3 | AK         |   192151.0 |\n",
       "| 58 | WY         |   223518.0 |\n",
       "| 45 | PR         |   254953.0 |\n",
       "| 54 | VT         |   268980.0 |\n",
       "| 34 | ND         |   332001.0 |\n",
       "| 11 | DC         |   390166.0 |\n",
       "| 48 | SD         |   408603.0 |\n",
       "| 16 | HI         |   408631.0 |\n",
       "| 32 | MT         |   424188.0 |\n",
       "| 46 | RI         |   492529.0 |\n",
       "| 18 | ID         |   551387.0 |\n",
       "| 26 | ME         |   639843.0 |\n",
       "| 36 | NH         |   739117.0 |\n",
       "| 38 | NM         |   747460.0 |\n",
       "| 51 | UT         |   768064.5 |\n",
       "| 12 | DE         |   824533.0 |\n",
       "| 35 | NE         |  1065156.0 |\n",
       "| 57 | WV         |  1132236.1 |\n",
       "| 43 | OR         |  1158607.0 |\n",
       "| 28 | MN         |  1384597.0 |\n",
       "| 39 | NV         |  1486563.0 |\n",
       "| 17 | IA         |  1532144.7 |\n",
       "| 21 | KS         |  1602421.0 |\n",
       "| 9 | CO         |  1799489.0 |\n",
       "| 31 | MS         |  1877468.0 |\n",
       "| 6 | AR         |  1886907.0 |\n",
       "| 10 | CT         |  2001486.0 |\n",
       "| 56 | WI         |  2279135.2 |\n",
       "| 42 | OK         |  2337150.0 |\n",
       "| 55 | WA         |  2660841.0 |\n",
       "| 23 | LA         |  2714799.0 |\n",
       "| 22 | KY         |  2818832.6 |\n",
       "| 47 | SC         |  3049724.8 |\n",
       "| 29 | MO         |  3196821.0 |\n",
       "| 4 | AL         |  3300998.1 |\n",
       "| 7 | AZ         |  3369159.6 |\n",
       "| 20 | IN         |  3924589.0 |\n",
       "| 25 | MD         |  3956240.6 |\n",
       "| 24 | MA         |  4067563.2 |\n",
       "| 49 | TN         |  4237917.5 |\n",
       "| 52 | VA         |  4736989.6 |\n",
       "| 14 | GA         |  4913503.0 |\n",
       "| 33 | NC         |  5729377.5 |\n",
       "| 27 | MI         |  5771663.6 |\n",
       "| 37 | NJ         |  6211320.1 |\n",
       "| 41 | OH         |  6228150.6 |\n",
       "| 19 | IL         |  7265792.1 |\n",
       "| 44 | PA         |  7311765.3 |\n",
       "| 40 | NY         | 11667493.2 |\n",
       "| 50 | TX         | 12181466.1 |\n",
       "| 8 | CA         | 14754450.6 |\n",
       "| 13 | FL         | 15222931.8 |\n",
       "\n"
      ],
      "text/plain": [
       "   State NumberServices\n",
       "1  AA         156.0    \n",
       "5  AP        1204.0    \n",
       "59 XX        2119.0    \n",
       "2  AE        2514.0    \n",
       "30 MP        3134.0    \n",
       "60 ZZ        6363.0    \n",
       "53 VI       22931.0    \n",
       "15 GU       24441.0    \n",
       "3  AK      192151.0    \n",
       "58 WY      223518.0    \n",
       "45 PR      254953.0    \n",
       "54 VT      268980.0    \n",
       "34 ND      332001.0    \n",
       "11 DC      390166.0    \n",
       "48 SD      408603.0    \n",
       "16 HI      408631.0    \n",
       "32 MT      424188.0    \n",
       "46 RI      492529.0    \n",
       "18 ID      551387.0    \n",
       "26 ME      639843.0    \n",
       "36 NH      739117.0    \n",
       "38 NM      747460.0    \n",
       "51 UT      768064.5    \n",
       "12 DE      824533.0    \n",
       "35 NE     1065156.0    \n",
       "57 WV     1132236.1    \n",
       "43 OR     1158607.0    \n",
       "28 MN     1384597.0    \n",
       "39 NV     1486563.0    \n",
       "17 IA     1532144.7    \n",
       "21 KS     1602421.0    \n",
       "9  CO     1799489.0    \n",
       "31 MS     1877468.0    \n",
       "6  AR     1886907.0    \n",
       "10 CT     2001486.0    \n",
       "56 WI     2279135.2    \n",
       "42 OK     2337150.0    \n",
       "55 WA     2660841.0    \n",
       "23 LA     2714799.0    \n",
       "22 KY     2818832.6    \n",
       "47 SC     3049724.8    \n",
       "29 MO     3196821.0    \n",
       "4  AL     3300998.1    \n",
       "7  AZ     3369159.6    \n",
       "20 IN     3924589.0    \n",
       "25 MD     3956240.6    \n",
       "24 MA     4067563.2    \n",
       "49 TN     4237917.5    \n",
       "52 VA     4736989.6    \n",
       "14 GA     4913503.0    \n",
       "33 NC     5729377.5    \n",
       "27 MI     5771663.6    \n",
       "37 NJ     6211320.1    \n",
       "41 OH     6228150.6    \n",
       "19 IL     7265792.1    \n",
       "44 PA     7311765.3    \n",
       "40 NY    11667493.2    \n",
       "50 TX    12181466.1    \n",
       "8  CA    14754450.6    \n",
       "13 FL    15222931.8    "
      ]
     },
     "metadata": {},
     "output_type": "display_data"
    }
   ],
   "source": [
    "#aggregate the total NumberServices in 60 states\n",
    "aggNumServices <- aggregate(NumberServices ~ State, dat3, sum)\n",
    "aggNumServices[order(aggNumServices$NumberServices),]"
   ]
  },
  {
   "cell_type": "code",
   "execution_count": 70,
   "metadata": {},
   "outputs": [],
   "source": [
    "#read dataset from CMS for medicare benificiaries(FFS) CY 2016\n",
    "setwd (\"/Users/ruyazhang/downloads\")\n",
    "dat4 <- read.csv(\"StateCountyFFS2016.csv\")"
   ]
  },
  {
   "cell_type": "code",
   "execution_count": 71,
   "metadata": {},
   "outputs": [],
   "source": [
    "# The data contains county level, extrated State Total FFS population, 53 states\n",
    "stateBeneficiaries <- select(filter(dat4, County == \"STATE TOTAL\"), c(State, Beneficiaries) )"
   ]
  },
  {
   "cell_type": "code",
   "execution_count": 72,
   "metadata": {},
   "outputs": [],
   "source": [
    "#merge is a function in dplyr package, this merge reduced from 60 states in telehealth data to 53 states from FFS\n",
    "df2 <- merge(x=stateBeneficiaries, y=aggNumServices, by = \"State\")"
   ]
  },
  {
   "cell_type": "code",
   "execution_count": 73,
   "metadata": {},
   "outputs": [],
   "source": [
    "#Culculation NumberServices/Beneficiaries(FFS) and converted number to numeric\n",
    "df2$ServicePerFFS <- df2[,3]/as.numeric(as.character(df2[,2]))"
   ]
  },
  {
   "cell_type": "code",
   "execution_count": 74,
   "metadata": {},
   "outputs": [],
   "source": [
    "#rename the 4 columns in below format, in order to merge to Usmap dataset, and merge to Usmap dataset by \"abbr\"\n",
    "names(df2) <- c(\"abbr\",\"FFSpop\",\"Service\",\"ServicePerFFS\")\n",
    "df2 <- merge(statepop, df2, by=\"abbr\")"
   ]
  },
  {
   "cell_type": "code",
   "execution_count": 75,
   "metadata": {},
   "outputs": [
    {
     "name": "stderr",
     "output_type": "stream",
     "text": [
      "`summarise()` ungrouping output (override with `.groups` argument)\n"
     ]
    }
   ],
   "source": [
    "#aggregate unique NPI from MedicareAllTelehealth2017.csv dataset for total MD in 55 states\n",
    "UniqueNPI <- summarize(group_by(dat3, State), unique_NPI = n_distinct(NPI))\n",
    "#Rename to below\n",
    "names(UniqueNPI) <- c(\"abbr\",\"NumberOfProvider\")\n",
    "#merge total MD(providers) to df2\n",
    "df2 <- merge(df2, UniqueNPI, by=\"abbr\")"
   ]
  },
  {
   "cell_type": "code",
   "execution_count": 76,
   "metadata": {},
   "outputs": [],
   "source": [
    "#Culculation Providers/Beneficiaries(FFS) and converted number to numeric\n",
    "df2$ProviderPerFFS <- df2[,8]/as.numeric(as.character(df2[,5]))"
   ]
  },
  {
   "cell_type": "code",
   "execution_count": 77,
   "metadata": {},
   "outputs": [],
   "source": [
    "#Added new column for the year of the datasets\n",
    "df2$Year <- 2016"
   ]
  },
  {
   "cell_type": "code",
   "execution_count": 78,
   "metadata": {},
   "outputs": [],
   "source": [
    "#Stack two dataframe df and df2\n",
    "dfAll <- rbind(df, df2)"
   ]
  },
  {
   "cell_type": "code",
   "execution_count": null,
   "metadata": {},
   "outputs": [],
   "source": []
  },
  {
   "cell_type": "code",
   "execution_count": null,
   "metadata": {},
   "outputs": [],
   "source": []
  }
 ],
 "metadata": {
  "kernelspec": {
   "display_name": "R",
   "language": "R",
   "name": "ir"
  },
  "language_info": {
   "codemirror_mode": "r",
   "file_extension": ".r",
   "mimetype": "text/x-r-source",
   "name": "R",
   "pygments_lexer": "r",
   "version": "3.6.1"
  }
 },
 "nbformat": 4,
 "nbformat_minor": 4
}
