{
 "cells": [
  {
   "cell_type": "code",
   "execution_count": 12,
   "metadata": {},
   "outputs": [
    {
     "name": "stderr",
     "output_type": "stream",
     "text": [
      "Updating HTML index of packages in '.Library'\n",
      "Making 'packages.html' ... done\n"
     ]
    }
   ],
   "source": [
    "install.packages(\"dplyr\")"
   ]
  },
  {
   "cell_type": "code",
   "execution_count": 1,
   "metadata": {},
   "outputs": [
    {
     "name": "stderr",
     "output_type": "stream",
     "text": [
      "Updating HTML index of packages in '.Library'\n",
      "Making 'packages.html' ... done\n"
     ]
    }
   ],
   "source": [
    "install.packages(\"ggplot2\")"
   ]
  },
  {
   "cell_type": "code",
   "execution_count": 2,
   "metadata": {},
   "outputs": [
    {
     "name": "stderr",
     "output_type": "stream",
     "text": [
      "Updating HTML index of packages in '.Library'\n",
      "Making 'packages.html' ... done\n"
     ]
    }
   ],
   "source": [
    "install.packages(\"ggmap\", repos='https://cran.r-project.org')"
   ]
  },
  {
   "cell_type": "code",
   "execution_count": 3,
   "metadata": {},
   "outputs": [
    {
     "name": "stderr",
     "output_type": "stream",
     "text": [
      "Warning message in install.packages(\"maps\"):\n",
      "“installation of package ‘maps’ had non-zero exit status”Updating HTML index of packages in '.Library'\n",
      "Making 'packages.html' ... done\n"
     ]
    }
   ],
   "source": [
    "install.packages(\"maps\")"
   ]
  },
  {
   "cell_type": "code",
   "execution_count": 4,
   "metadata": {},
   "outputs": [
    {
     "name": "stderr",
     "output_type": "stream",
     "text": [
      "Updating HTML index of packages in '.Library'\n",
      "Making 'packages.html' ... done\n"
     ]
    }
   ],
   "source": [
    "install.packages(\"geomapdata\", repos='https://cran.r-project.org')"
   ]
  },
  {
   "cell_type": "code",
   "execution_count": 5,
   "metadata": {},
   "outputs": [],
   "source": [
    "library(maps)"
   ]
  },
  {
   "cell_type": "code",
   "execution_count": 6,
   "metadata": {},
   "outputs": [],
   "source": [
    "library(geomapdata)"
   ]
  },
  {
   "cell_type": "code",
   "execution_count": 10,
   "metadata": {},
   "outputs": [],
   "source": [
    "library(ggmap)"
   ]
  },
  {
   "cell_type": "code",
   "execution_count": 9,
   "metadata": {},
   "outputs": [],
   "source": [
    "library(ggplot2)"
   ]
  },
  {
   "cell_type": "code",
   "execution_count": 13,
   "metadata": {},
   "outputs": [],
   "source": [
    "library(dplyr)"
   ]
  },
  {
   "cell_type": "code",
   "execution_count": 14,
   "metadata": {},
   "outputs": [],
   "source": [
    "setwd (\"/Users/ruyazhang/downloads\")"
   ]
  },
  {
   "cell_type": "code",
   "execution_count": 15,
   "metadata": {},
   "outputs": [],
   "source": [
    "dat1 <- read.csv(\"MedicareAllTelehealth.csv\")"
   ]
  },
  {
   "cell_type": "code",
   "execution_count": 16,
   "metadata": {},
   "outputs": [],
   "source": [
    "vars <- c(\"State\", \"Gender\", \"Credentials\", \"City\", \"ProviderType\")"
   ]
  },
  {
   "cell_type": "code",
   "execution_count": 17,
   "metadata": {},
   "outputs": [],
   "source": [
    "medicare1 <- dat1[,vars]"
   ]
  },
  {
   "cell_type": "code",
   "execution_count": 18,
   "metadata": {},
   "outputs": [
    {
     "data": {
      "text/plain": [
       " State      Gender                  Credentials                   City       \n",
       " AE:   44    :    17   MD                 :339781   NEW YORK        : 11651  \n",
       " AK: 1959   F:391309   M.D.               :339013   CHICAGO         :  9328  \n",
       " AL:15312   M:657249   D.O.               : 40297   HOUSTON         :  9256  \n",
       " AP:   11                                 : 34868   PHILADELPHIA    :  7955  \n",
       " AR: 9617              DO                 : 29543   BOSTON          :  7541  \n",
       " AZ:20759              PA-C               : 29222   ROCHESTER       :  6569  \n",
       " CA:78966              NP                 : 17554   BALTIMORE       :  6389  \n",
       " CO:16237              DPM                : 15396   COLUMBUS        :  6158  \n",
       " CT:15793              PA                 : 12488   SPRINGFIELD     :  6008  \n",
       " DC: 3100              M.D                : 11953   BROOKLYN        :  5928  \n",
       " DE: 4049              FNP                : 11150   LOS ANGELES     :  5803  \n",
       " FL:73622              O.D.               : 10975   DALLAS          :  5801  \n",
       " GA:29099              ARNP               :  8456   CLEVELAND       :  5443  \n",
       " GU:  174              APRN               :  7740   SAINT LOUIS     :  5364  \n",
       " HI: 2912              D.P.M.             :  6357   SAN ANTONIO     :  5274  \n",
       " IA:11015              LCSW               :  5485   INDIANAPOLIS    :  5246  \n",
       " ID: 4975              CRNP               :  5394   JACKSONVILLE    :  5161  \n",
       " IL:45039              OD                 :  5381   PHOENIX         :  4817  \n",
       " IN:23512              FNP-C              :  4475   SEATTLE         :  4788  \n",
       " KS:10459              NP-C               :  4436   LOUISVILLE      :  4530  \n",
       " KY:17155              P.A.               :  3918   ATLANTA         :  4455  \n",
       " LA:14755              CNP                :  3877   PITTSBURGH      :  4301  \n",
       " MA:33533              PH.D.              :  3844   PORTLAND        :  4283  \n",
       " MD:23325              FNP-BC             :  3352   CINCINNATI      :  4237  \n",
       " ME: 5664              N.P.               :  3264   CHARLOTTE       :  4207  \n",
       " MI:37322              APN                :  3032   NASHVILLE       :  4132  \n",
       " MN:18594              PHD                :  2966   MIAMI           :  4064  \n",
       " MO:21183              PAC                :  2648   COLUMBIA        :  4060  \n",
       " MP:   23              D.O                :  2074   RICHMOND        :  3815  \n",
       " MS: 9261              M.D., PH.D.        :  1913   GREENVILLE      :  3796  \n",
       " MT: 3839              MD, PHD            :  1906   WASHINGTON      :  3790  \n",
       " NC:37182              M. D.              :  1896   LAS VEGAS       :  3606  \n",
       " ND: 3036              PSY.D.             :  1772   AUSTIN          :  3520  \n",
       " NE: 7538              ANP                :  1590   TAMPA           :  3480  \n",
       " NH: 6427              P.A.-C             :  1174   OKLAHOMA CITY   :  3414  \n",
       " NJ:34141              PSYD               :   999   LEXINGTON       :  3376  \n",
       " NM: 5562              APNP               :   978   KANSAS CITY     :  3334  \n",
       " NV: 6964              MD, MPH            :   959   JACKSON         :  3324  \n",
       " NY:70184              NURSE PRACTITIONER :   950   MILWAUKEE       :  3299  \n",
       " OH:43101              MD PHD             :   911   MADISON         :  3252  \n",
       " OK:12546              MBBS               :   871   SAN DIEGO       :  3236  \n",
       " OR:11150              M.D.,              :   870   OMAHA           :  3197  \n",
       " PA:52738              LICSW              :   832   CHARLESTON      :  3194  \n",
       " PR: 2676              M.D., M.P.H.       :   826   BIRMINGHAM      :  3158  \n",
       " RI: 3994              CFNP               :   775   TUCSON          :  3065  \n",
       " SC:16265              RPA-C              :   730   TULSA           :  2998  \n",
       " SD: 3452              D.P.M              :   690   GAINESVILLE     :  2995  \n",
       " TN:24760              ACNP               :   662   SAN FRANCISCO   :  2988  \n",
       " TX:66357              MSW                :   630   BRONX           :  2922  \n",
       " UT: 6822              F.N.P.             :   614   WILMINGTON      :  2817  \n",
       " VA:28164              LMSW               :   583   ORLANDO         :  2764  \n",
       " VI:  175              PHYSICIAN ASSISTANT:   574   KNOXVILLE       :  2644  \n",
       " VT: 2498              PA C               :   556   AURORA          :  2613  \n",
       " WA:21853              PMHNP              :   554   SACRAMENTO      :  2613  \n",
       " WI:21113              P.A.-C.            :   511   ALBUQUERQUE     :  2573  \n",
       " WV: 6698              ANP-BC             :   495   DETROIT         :  2554  \n",
       " WY: 1772              M.D,               :   491   MINNEAPOLIS     :  2537  \n",
       " XX:   25              MD.                :   472   FORT WORTH      :  2513  \n",
       " ZZ:   74              PMHNP-BC           :   470   BURLINGTON      :  2509  \n",
       "                       CNS                :   458   ANN ARBOR       :  2489  \n",
       "                       DNP                :   447   NEWARK          :  2425  \n",
       "                       A.R.N.P.           :   383   MEMPHIS         :  2383  \n",
       "                       RD                 :   375   GRAND RAPIDS    :  2333  \n",
       "                       L.C.S.W.           :   361   RALEIGH         :  2274  \n",
       "                       MSW, LCSW          :   357   LANCASTER       :  2273  \n",
       "                       M D                :   323   SCOTTSDALE      :  2243  \n",
       "                       M.D., PHD          :   323   LITTLE ROCK     :  2230  \n",
       "                       LISW               :   318   WINSTON SALEM   :  2223  \n",
       "                       PH.D               :   318   ALBANY          :  2186  \n",
       "                       RN                 :   309   DURHAM          :  2124  \n",
       "                       DDS                :   307   FAYETTEVILLE    :  2100  \n",
       "                       C.R.N.P.           :   292   SALT LAKE CITY  :  2071  \n",
       "                       APRN, BC           :   287   LAFAYETTE       :  2052  \n",
       "                       ANP-C              :   276   WICHITA         :  2017  \n",
       "                       APRN, FNP-C        :   274   DENVER          :  2001  \n",
       "                       ACNP-BC            :   270   WORCESTER       :  1980  \n",
       "                       MD PA              :   261   PEORIA          :  1959  \n",
       "                       M.D., MPH          :   255   LEBANON         :  1957  \n",
       "                       MD FACC            :   254   ASHEVILLE       :  1925  \n",
       "                       MD MPH             :   254   ALLENTOWN       :  1919  \n",
       "                       AGPCNP-BC          :   252   BATON ROUGE     :  1902  \n",
       "                       LCSW-C             :   250   FORT MYERS      :  1891  \n",
       "                       M.D., M.S.         :   245   SARASOTA        :  1871  \n",
       "                       APRN-BC            :   237   NEW ORLEANS     :  1866  \n",
       "                       GNP                :   233   CHARLOTTESVILLE :  1862  \n",
       "                       MD, FACC           :   232   COLORADO SPRINGS:  1856  \n",
       "                       ARNP-C             :   229   MIDDLETOWN      :  1851  \n",
       "                       MSN                :   223   GLENDALE        :  1806  \n",
       "                       PSY.D              :   218   NAPLES          :  1784  \n",
       "                       MD, MS             :   214   AUGUSTA         :  1778  \n",
       "                       APRN-CNP           :   206   CONCORD         :  1768  \n",
       "                       A.P.R.N.           :   205   LINCOLN         :  1754  \n",
       "                       D. O.              :   205   SPOKANE         :  1751  \n",
       "                       M.B.B.S.           :   205   NORFOLK         :  1726  \n",
       "                       M.D., F.A.C.S.     :   202   NEW HAVEN       :  1722  \n",
       "                       DMD                :   201   DANVILLE        :  1713  \n",
       "                       MPAS, PA-C         :   200   FORT WAYNE      :  1675  \n",
       "                       RN, CNP            :   198   DECATUR         :  1663  \n",
       "                       O.D                :   192   MARIETTA        :  1661  \n",
       "                       (Other)            : 41533   (Other)         :710866  \n",
       "                                           ProviderType   \n",
       " Addiction Medicine                              :   202  \n",
       " Advanced Heart Failure and Transplant Cardiology:    47  \n",
       " All Other Suppliers                             :     3  \n",
       " Allergy/ Immunology                             :  4739  \n",
       " Anesthesiology                                  :  5721  \n",
       " Cardiac Surgery                                 :  1721  \n",
       " Cardiology                                      : 49088  \n",
       " Certified Clinical Nurse Specialist             :  2287  \n",
       " Certified Nurse Midwife                         :   208  \n",
       " Certified Registered Nurse Anesthetist (CRNA)   :    77  \n",
       " Chiropractic                                    :     1  \n",
       " Clinic or Group Practice                        :    80  \n",
       " Clinical Cardiac Electrophysiology              :  5076  \n",
       " Colorectal Surgery (Proctology)                 :  2657  \n",
       " Critical Care (Intensivists)                    :  3578  \n",
       " Dentist                                         :    11  \n",
       " Dermatology                                     : 21315  \n",
       " Diagnostic Radiology                            :  1052  \n",
       " Emergency Medicine                              :  8164  \n",
       " Endocrinology                                   : 10202  \n",
       " Family Practice                                 :137880  \n",
       " Gastroenterology                                : 26957  \n",
       " General Practice                                :  6178  \n",
       " General Surgery                                 : 32735  \n",
       " Geriatric Medicine                              :  3814  \n",
       " Geriatric Psychiatry                            :   393  \n",
       " Gynecological Oncology                          :  1559  \n",
       " Hand Surgery                                    :  2392  \n",
       " Hematology                                      :  1420  \n",
       " Hematology-Oncology                             : 20099  \n",
       " Hospice and Palliative Care                     :  1391  \n",
       " Hospitalist                                     :  4426  \n",
       " Infectious Disease                              :  9991  \n",
       " Internal Medicine                               :162123  \n",
       " Interventional Cardiology                       :  8299  \n",
       " Interventional Pain Management                  :  2766  \n",
       " Interventional Radiology                        :   668  \n",
       " Licensed Clinical Social Worker                 : 12790  \n",
       " Mass Immunizer Roster Biller                    :     1  \n",
       " Maxillofacial Surgery                           :   557  \n",
       " Medical Oncology                                :  6665  \n",
       " Nephrology                                      : 24873  \n",
       " Neurology                                       : 26126  \n",
       " Neuropsychiatry                                 :   231  \n",
       " Neurosurgery                                    :  7940  \n",
       " Nuclear Medicine                                :   118  \n",
       " Nurse Practitioner                              :110542  \n",
       " Obstetrics & Gynecology                         : 18277  \n",
       " Ophthalmology                                   : 14952  \n",
       " Optometry                                       : 17504  \n",
       " Oral Surgery (Dentist only)                     :   798  \n",
       " Orthopedic Surgery                              : 34473  \n",
       " Osteopathic Manipulative Medicine               :   845  \n",
       " Otolaryngology                                  : 15664  \n",
       " Pain Management                                 :  3506  \n",
       " Pathology                                       :   171  \n",
       " Pediatric Medicine                              :  1485  \n",
       " Peripheral Vascular Disease                     :   131  \n",
       " Physical Medicine and Rehabilitation            : 12309  \n",
       " Physical Therapist in Private Practice          :     6  \n",
       " Physician Assistant                             : 58420  \n",
       " Plastic and Reconstructive Surgery              :  4795  \n",
       " Podiatry                                        : 23568  \n",
       " Preventive Medicine                             :   309  \n",
       " Psychiatry                                      : 26972  \n",
       " Psychologist, Clinical                          : 12125  \n",
       " Public Health or Welfare Agency                 :     1  \n",
       " Pulmonary Disease                               : 21973  \n",
       " Radiation Oncology                              :  6409  \n",
       " Registered Dietitian or Nutrition Professional  :  1458  \n",
       " Rheumatology                                    :  7770  \n",
       " Sleep Medicine                                  :   746  \n",
       " Speech Language Pathologist                     :     2  \n",
       " Sports Medicine                                 :  1768  \n",
       " Surgical Oncology                               :  1516  \n",
       " Thoracic Surgery                                :  3035  \n",
       " Undefined Physician type                        :   593  \n",
       " Unknown Supplier/Provider Specialty             :     5  \n",
       " Urology                                         : 21131  \n",
       " Vascular Surgery                                :  6695  \n",
       "                                                          \n",
       "                                                          \n",
       "                                                          \n",
       "                                                          \n",
       "                                                          \n",
       "                                                          \n",
       "                                                          \n",
       "                                                          \n",
       "                                                          \n",
       "                                                          \n",
       "                                                          \n",
       "                                                          \n",
       "                                                          \n",
       "                                                          \n",
       "                                                          \n",
       "                                                          \n",
       "                                                          \n",
       "                                                          \n",
       "                                                          \n",
       "                                                          "
      ]
     },
     "metadata": {},
     "output_type": "display_data"
    }
   ],
   "source": [
    "summary(medicare1, maxsum = 100)"
   ]
  },
  {
   "cell_type": "code",
   "execution_count": 19,
   "metadata": {},
   "outputs": [],
   "source": [
    "aggNumServices <- aggregate(NumberServices ~ State, dat1, sum)"
   ]
  },
  {
   "cell_type": "code",
   "execution_count": 20,
   "metadata": {},
   "outputs": [
    {
     "data": {
      "text/html": [
       "<table>\n",
       "<thead><tr><th></th><th scope=col>State</th><th scope=col>NumberServices</th></tr></thead>\n",
       "<tbody>\n",
       "\t<tr><th scope=row>4</th><td>AP        </td><td>     589.0</td></tr>\n",
       "\t<tr><th scope=row>1</th><td>AE        </td><td>    4460.0</td></tr>\n",
       "\t<tr><th scope=row>58</th><td>XX        </td><td>    4492.0</td></tr>\n",
       "\t<tr><th scope=row>29</th><td>MP        </td><td>    4804.0</td></tr>\n",
       "\t<tr><th scope=row>59</th><td>ZZ        </td><td>    5811.0</td></tr>\n",
       "\t<tr><th scope=row>14</th><td>GU        </td><td>   19324.0</td></tr>\n",
       "\t<tr><th scope=row>52</th><td>VI        </td><td>   25649.0</td></tr>\n",
       "\t<tr><th scope=row>2</th><td>AK        </td><td>  194642.0</td></tr>\n",
       "\t<tr><th scope=row>57</th><td>WY        </td><td>  216437.5</td></tr>\n",
       "\t<tr><th scope=row>44</th><td>PR        </td><td>  223525.0</td></tr>\n",
       "\t<tr><th scope=row>53</th><td>VT        </td><td>  304152.0</td></tr>\n",
       "\t<tr><th scope=row>33</th><td>ND        </td><td>  320992.0</td></tr>\n",
       "\t<tr><th scope=row>47</th><td>SD        </td><td>  401471.5</td></tr>\n",
       "\t<tr><th scope=row>10</th><td>DC        </td><td>  408470.0</td></tr>\n",
       "\t<tr><th scope=row>15</th><td>HI        </td><td>  422287.0</td></tr>\n",
       "\t<tr><th scope=row>31</th><td>MT        </td><td>  423918.0</td></tr>\n",
       "\t<tr><th scope=row>45</th><td>RI        </td><td>  479622.0</td></tr>\n",
       "\t<tr><th scope=row>17</th><td>ID        </td><td>  552327.0</td></tr>\n",
       "\t<tr><th scope=row>25</th><td>ME        </td><td>  671258.0</td></tr>\n",
       "\t<tr><th scope=row>37</th><td>NM        </td><td>  705928.0</td></tr>\n",
       "\t<tr><th scope=row>50</th><td>UT        </td><td>  751851.0</td></tr>\n",
       "\t<tr><th scope=row>11</th><td>DE        </td><td>  777223.0</td></tr>\n",
       "\t<tr><th scope=row>35</th><td>NH        </td><td>  818603.0</td></tr>\n",
       "\t<tr><th scope=row>34</th><td>NE        </td><td> 1043195.0</td></tr>\n",
       "\t<tr><th scope=row>56</th><td>WV        </td><td> 1053569.5</td></tr>\n",
       "\t<tr><th scope=row>42</th><td>OR        </td><td> 1130661.0</td></tr>\n",
       "\t<tr><th scope=row>27</th><td>MN        </td><td> 1327646.7</td></tr>\n",
       "\t<tr><th scope=row>38</th><td>NV        </td><td> 1422497.3</td></tr>\n",
       "\t<tr><th scope=row>16</th><td>IA        </td><td> 1503018.0</td></tr>\n",
       "\t<tr><th scope=row>20</th><td>KS        </td><td> 1529122.0</td></tr>\n",
       "\t<tr><th scope=row>8</th><td>CO        </td><td> 1821354.0</td></tr>\n",
       "\t<tr><th scope=row>30</th><td>MS        </td><td> 1825334.0</td></tr>\n",
       "\t<tr><th scope=row>5</th><td>AR        </td><td> 1849179.0</td></tr>\n",
       "\t<tr><th scope=row>55</th><td>WI        </td><td> 2176240.0</td></tr>\n",
       "\t<tr><th scope=row>9</th><td>CT        </td><td> 2276817.5</td></tr>\n",
       "\t<tr><th scope=row>41</th><td>OK        </td><td> 2317365.5</td></tr>\n",
       "\t<tr><th scope=row>22</th><td>LA        </td><td> 2557490.3</td></tr>\n",
       "\t<tr><th scope=row>54</th><td>WA        </td><td> 2571241.1</td></tr>\n",
       "\t<tr><th scope=row>21</th><td>KY        </td><td> 2723987.1</td></tr>\n",
       "\t<tr><th scope=row>3</th><td>AL        </td><td> 2785515.5</td></tr>\n",
       "\t<tr><th scope=row>46</th><td>SC        </td><td> 2930909.1</td></tr>\n",
       "\t<tr><th scope=row>28</th><td>MO        </td><td> 3113438.0</td></tr>\n",
       "\t<tr><th scope=row>6</th><td>AZ        </td><td> 3341049.5</td></tr>\n",
       "\t<tr><th scope=row>19</th><td>IN        </td><td> 3644839.0</td></tr>\n",
       "\t<tr><th scope=row>24</th><td>MD        </td><td> 3895843.0</td></tr>\n",
       "\t<tr><th scope=row>48</th><td>TN        </td><td> 4052842.0</td></tr>\n",
       "\t<tr><th scope=row>23</th><td>MA        </td><td> 4536808.0</td></tr>\n",
       "\t<tr><th scope=row>51</th><td>VA        </td><td> 4648452.0</td></tr>\n",
       "\t<tr><th scope=row>13</th><td>GA        </td><td> 4821690.0</td></tr>\n",
       "\t<tr><th scope=row>26</th><td>MI        </td><td> 5419768.9</td></tr>\n",
       "\t<tr><th scope=row>32</th><td>NC        </td><td> 5694534.8</td></tr>\n",
       "\t<tr><th scope=row>40</th><td>OH        </td><td> 5871589.6</td></tr>\n",
       "\t<tr><th scope=row>36</th><td>NJ        </td><td> 6615900.7</td></tr>\n",
       "\t<tr><th scope=row>18</th><td>IL        </td><td> 6910017.8</td></tr>\n",
       "\t<tr><th scope=row>43</th><td>PA        </td><td> 7046679.7</td></tr>\n",
       "\t<tr><th scope=row>39</th><td>NY        </td><td>11081508.5</td></tr>\n",
       "\t<tr><th scope=row>49</th><td>TX        </td><td>11769399.1</td></tr>\n",
       "\t<tr><th scope=row>7</th><td>CA        </td><td>14406425.5</td></tr>\n",
       "\t<tr><th scope=row>12</th><td>FL        </td><td>14733962.0</td></tr>\n",
       "</tbody>\n",
       "</table>\n"
      ],
      "text/latex": [
       "\\begin{tabular}{r|ll}\n",
       "  & State & NumberServices\\\\\n",
       "\\hline\n",
       "\t4 & AP         &      589.0\\\\\n",
       "\t1 & AE         &     4460.0\\\\\n",
       "\t58 & XX         &     4492.0\\\\\n",
       "\t29 & MP         &     4804.0\\\\\n",
       "\t59 & ZZ         &     5811.0\\\\\n",
       "\t14 & GU         &    19324.0\\\\\n",
       "\t52 & VI         &    25649.0\\\\\n",
       "\t2 & AK         &   194642.0\\\\\n",
       "\t57 & WY         &   216437.5\\\\\n",
       "\t44 & PR         &   223525.0\\\\\n",
       "\t53 & VT         &   304152.0\\\\\n",
       "\t33 & ND         &   320992.0\\\\\n",
       "\t47 & SD         &   401471.5\\\\\n",
       "\t10 & DC         &   408470.0\\\\\n",
       "\t15 & HI         &   422287.0\\\\\n",
       "\t31 & MT         &   423918.0\\\\\n",
       "\t45 & RI         &   479622.0\\\\\n",
       "\t17 & ID         &   552327.0\\\\\n",
       "\t25 & ME         &   671258.0\\\\\n",
       "\t37 & NM         &   705928.0\\\\\n",
       "\t50 & UT         &   751851.0\\\\\n",
       "\t11 & DE         &   777223.0\\\\\n",
       "\t35 & NH         &   818603.0\\\\\n",
       "\t34 & NE         &  1043195.0\\\\\n",
       "\t56 & WV         &  1053569.5\\\\\n",
       "\t42 & OR         &  1130661.0\\\\\n",
       "\t27 & MN         &  1327646.7\\\\\n",
       "\t38 & NV         &  1422497.3\\\\\n",
       "\t16 & IA         &  1503018.0\\\\\n",
       "\t20 & KS         &  1529122.0\\\\\n",
       "\t8 & CO         &  1821354.0\\\\\n",
       "\t30 & MS         &  1825334.0\\\\\n",
       "\t5 & AR         &  1849179.0\\\\\n",
       "\t55 & WI         &  2176240.0\\\\\n",
       "\t9 & CT         &  2276817.5\\\\\n",
       "\t41 & OK         &  2317365.5\\\\\n",
       "\t22 & LA         &  2557490.3\\\\\n",
       "\t54 & WA         &  2571241.1\\\\\n",
       "\t21 & KY         &  2723987.1\\\\\n",
       "\t3 & AL         &  2785515.5\\\\\n",
       "\t46 & SC         &  2930909.1\\\\\n",
       "\t28 & MO         &  3113438.0\\\\\n",
       "\t6 & AZ         &  3341049.5\\\\\n",
       "\t19 & IN         &  3644839.0\\\\\n",
       "\t24 & MD         &  3895843.0\\\\\n",
       "\t48 & TN         &  4052842.0\\\\\n",
       "\t23 & MA         &  4536808.0\\\\\n",
       "\t51 & VA         &  4648452.0\\\\\n",
       "\t13 & GA         &  4821690.0\\\\\n",
       "\t26 & MI         &  5419768.9\\\\\n",
       "\t32 & NC         &  5694534.8\\\\\n",
       "\t40 & OH         &  5871589.6\\\\\n",
       "\t36 & NJ         &  6615900.7\\\\\n",
       "\t18 & IL         &  6910017.8\\\\\n",
       "\t43 & PA         &  7046679.7\\\\\n",
       "\t39 & NY         & 11081508.5\\\\\n",
       "\t49 & TX         & 11769399.1\\\\\n",
       "\t7 & CA         & 14406425.5\\\\\n",
       "\t12 & FL         & 14733962.0\\\\\n",
       "\\end{tabular}\n"
      ],
      "text/markdown": [
       "\n",
       "| <!--/--> | State | NumberServices |\n",
       "|---|---|---|\n",
       "| 4 | AP         |      589.0 |\n",
       "| 1 | AE         |     4460.0 |\n",
       "| 58 | XX         |     4492.0 |\n",
       "| 29 | MP         |     4804.0 |\n",
       "| 59 | ZZ         |     5811.0 |\n",
       "| 14 | GU         |    19324.0 |\n",
       "| 52 | VI         |    25649.0 |\n",
       "| 2 | AK         |   194642.0 |\n",
       "| 57 | WY         |   216437.5 |\n",
       "| 44 | PR         |   223525.0 |\n",
       "| 53 | VT         |   304152.0 |\n",
       "| 33 | ND         |   320992.0 |\n",
       "| 47 | SD         |   401471.5 |\n",
       "| 10 | DC         |   408470.0 |\n",
       "| 15 | HI         |   422287.0 |\n",
       "| 31 | MT         |   423918.0 |\n",
       "| 45 | RI         |   479622.0 |\n",
       "| 17 | ID         |   552327.0 |\n",
       "| 25 | ME         |   671258.0 |\n",
       "| 37 | NM         |   705928.0 |\n",
       "| 50 | UT         |   751851.0 |\n",
       "| 11 | DE         |   777223.0 |\n",
       "| 35 | NH         |   818603.0 |\n",
       "| 34 | NE         |  1043195.0 |\n",
       "| 56 | WV         |  1053569.5 |\n",
       "| 42 | OR         |  1130661.0 |\n",
       "| 27 | MN         |  1327646.7 |\n",
       "| 38 | NV         |  1422497.3 |\n",
       "| 16 | IA         |  1503018.0 |\n",
       "| 20 | KS         |  1529122.0 |\n",
       "| 8 | CO         |  1821354.0 |\n",
       "| 30 | MS         |  1825334.0 |\n",
       "| 5 | AR         |  1849179.0 |\n",
       "| 55 | WI         |  2176240.0 |\n",
       "| 9 | CT         |  2276817.5 |\n",
       "| 41 | OK         |  2317365.5 |\n",
       "| 22 | LA         |  2557490.3 |\n",
       "| 54 | WA         |  2571241.1 |\n",
       "| 21 | KY         |  2723987.1 |\n",
       "| 3 | AL         |  2785515.5 |\n",
       "| 46 | SC         |  2930909.1 |\n",
       "| 28 | MO         |  3113438.0 |\n",
       "| 6 | AZ         |  3341049.5 |\n",
       "| 19 | IN         |  3644839.0 |\n",
       "| 24 | MD         |  3895843.0 |\n",
       "| 48 | TN         |  4052842.0 |\n",
       "| 23 | MA         |  4536808.0 |\n",
       "| 51 | VA         |  4648452.0 |\n",
       "| 13 | GA         |  4821690.0 |\n",
       "| 26 | MI         |  5419768.9 |\n",
       "| 32 | NC         |  5694534.8 |\n",
       "| 40 | OH         |  5871589.6 |\n",
       "| 36 | NJ         |  6615900.7 |\n",
       "| 18 | IL         |  6910017.8 |\n",
       "| 43 | PA         |  7046679.7 |\n",
       "| 39 | NY         | 11081508.5 |\n",
       "| 49 | TX         | 11769399.1 |\n",
       "| 7 | CA         | 14406425.5 |\n",
       "| 12 | FL         | 14733962.0 |\n",
       "\n"
      ],
      "text/plain": [
       "   State NumberServices\n",
       "4  AP         589.0    \n",
       "1  AE        4460.0    \n",
       "58 XX        4492.0    \n",
       "29 MP        4804.0    \n",
       "59 ZZ        5811.0    \n",
       "14 GU       19324.0    \n",
       "52 VI       25649.0    \n",
       "2  AK      194642.0    \n",
       "57 WY      216437.5    \n",
       "44 PR      223525.0    \n",
       "53 VT      304152.0    \n",
       "33 ND      320992.0    \n",
       "47 SD      401471.5    \n",
       "10 DC      408470.0    \n",
       "15 HI      422287.0    \n",
       "31 MT      423918.0    \n",
       "45 RI      479622.0    \n",
       "17 ID      552327.0    \n",
       "25 ME      671258.0    \n",
       "37 NM      705928.0    \n",
       "50 UT      751851.0    \n",
       "11 DE      777223.0    \n",
       "35 NH      818603.0    \n",
       "34 NE     1043195.0    \n",
       "56 WV     1053569.5    \n",
       "42 OR     1130661.0    \n",
       "27 MN     1327646.7    \n",
       "38 NV     1422497.3    \n",
       "16 IA     1503018.0    \n",
       "20 KS     1529122.0    \n",
       "8  CO     1821354.0    \n",
       "30 MS     1825334.0    \n",
       "5  AR     1849179.0    \n",
       "55 WI     2176240.0    \n",
       "9  CT     2276817.5    \n",
       "41 OK     2317365.5    \n",
       "22 LA     2557490.3    \n",
       "54 WA     2571241.1    \n",
       "21 KY     2723987.1    \n",
       "3  AL     2785515.5    \n",
       "46 SC     2930909.1    \n",
       "28 MO     3113438.0    \n",
       "6  AZ     3341049.5    \n",
       "19 IN     3644839.0    \n",
       "24 MD     3895843.0    \n",
       "48 TN     4052842.0    \n",
       "23 MA     4536808.0    \n",
       "51 VA     4648452.0    \n",
       "13 GA     4821690.0    \n",
       "26 MI     5419768.9    \n",
       "32 NC     5694534.8    \n",
       "40 OH     5871589.6    \n",
       "36 NJ     6615900.7    \n",
       "18 IL     6910017.8    \n",
       "43 PA     7046679.7    \n",
       "39 NY    11081508.5    \n",
       "49 TX    11769399.1    \n",
       "7  CA    14406425.5    \n",
       "12 FL    14733962.0    "
      ]
     },
     "metadata": {},
     "output_type": "display_data"
    }
   ],
   "source": [
    "aggNumServices[order(aggNumServices$NumberServices),]"
   ]
  },
  {
   "cell_type": "code",
   "execution_count": 22,
   "metadata": {},
   "outputs": [
    {
     "data": {
      "text/plain": [
       "     State    NumberServices    \n",
       " AE     : 1   Min.   :     589  \n",
       " AK     : 1   1st Qu.:  423102  \n",
       " AL     : 1   Median : 1529122  \n",
       " AP     : 1   Mean   : 2782843  \n",
       " AR     : 1   3rd Qu.: 3770341  \n",
       " AZ     : 1   Max.   :14733962  \n",
       " (Other):53                     "
      ]
     },
     "metadata": {},
     "output_type": "display_data"
    }
   ],
   "source": [
    "summary(aggNumServices)"
   ]
  },
  {
   "cell_type": "code",
   "execution_count": 23,
   "metadata": {},
   "outputs": [],
   "source": [
    "setwd (\"/Users/ruyazhang/downloads\")"
   ]
  },
  {
   "cell_type": "code",
   "execution_count": 24,
   "metadata": {},
   "outputs": [],
   "source": [
    "dat2 <- read.csv(\"StateCountyFFS2017.csv\")"
   ]
  },
  {
   "cell_type": "code",
   "execution_count": 25,
   "metadata": {},
   "outputs": [],
   "source": [
    "stateBeneficiaries <- select(filter(dat2, County == \"STATE TOTAL\"), c(State, Beneficiaries) )"
   ]
  },
  {
   "cell_type": "code",
   "execution_count": 26,
   "metadata": {},
   "outputs": [
    {
     "name": "stdout",
     "output_type": "stream",
     "text": [
      "   State Beneficiaries\n",
      "1     AK      82927.00\n",
      "2     AL     969116.00\n",
      "3     AR     593592.00\n",
      "4     AZ    1155335.00\n",
      "5     CA    5478663.00\n",
      "6     CO     789379.00\n",
      "7     CT     604883.00\n",
      "8     DC      76084.00\n",
      "9     DE     184883.00\n",
      "10    FL    4148415.00\n",
      "11    GA    1544616.00\n",
      "12    HI     231721.00\n",
      "13    IA     577446.00\n",
      "14    ID     294633.00\n",
      "15    IL    2007176.00\n",
      "16    IN    1160602.00\n",
      "17    KS     485625.00\n",
      "18    KY     857387.00\n",
      "19    LA     797069.00\n",
      "20    MA    1174969.00\n",
      "21    MD     881248.00\n",
      "22    ME     306728.00\n",
      "23    MI    1926676.00\n",
      "24    MN     923747.00\n",
      "25    MO    1129912.00\n",
      "26    MS     565678.00\n",
      "27    MT     206080.00\n",
      "28    NC    1823347.00\n",
      "29    ND     118011.00\n",
      "30    NE     312343.00\n",
      "31    NH     258658.00\n",
      "32    NJ    1422817.00\n",
      "33    NM     370629.00\n",
      "34    NV     452921.00\n",
      "35    NY    3208508.00\n",
      "36    OH    2143757.00\n",
      "37    OK     669922.00\n",
      "38    OR     767980.00\n",
      "39    PA    2491524.00\n",
      "40    PR     633773.00\n",
      "41    RI     192336.00\n",
      "42    SC     973995.00\n",
      "43    SD     158039.00\n",
      "44    TN    1248577.00\n",
      "45    TX    3668126.00\n",
      "46    UT     343823.00\n",
      "47    VA    1326512.00\n",
      "48    VI      18155.00\n",
      "49    VT     131108.00\n",
      "50    WA    1196540.00\n",
      "51    WI    1074484.00\n",
      "52    WV     414555.00\n",
      "53    WY      97212.00\n"
     ]
    }
   ],
   "source": [
    "print(stateBeneficiaries)"
   ]
  },
  {
   "cell_type": "code",
   "execution_count": null,
   "metadata": {},
   "outputs": [],
   "source": [
    "#df <- merge(x=stateBeneficiaries, y=aggNumServices, by = \"State\", all=TRUE, sort=TRUE)"
   ]
  },
  {
   "cell_type": "code",
   "execution_count": 27,
   "metadata": {},
   "outputs": [],
   "source": [
    "df <- merge(x=stateBeneficiaries, y=aggNumServices, by = \"State\")"
   ]
  },
  {
   "cell_type": "code",
   "execution_count": 28,
   "metadata": {},
   "outputs": [
    {
     "name": "stdout",
     "output_type": "stream",
     "text": [
      "   State Beneficiaries NumberServices\n",
      "1     AK      82927.00       194642.0\n",
      "2     AL     969116.00      2785515.5\n",
      "3     AR     593592.00      1849179.0\n",
      "4     AZ    1155335.00      3341049.5\n",
      "5     CA    5478663.00     14406425.5\n",
      "6     CO     789379.00      1821354.0\n",
      "7     CT     604883.00      2276817.5\n",
      "8     DC      76084.00       408470.0\n",
      "9     DE     184883.00       777223.0\n",
      "10    FL    4148415.00     14733962.0\n",
      "11    GA    1544616.00      4821690.0\n",
      "12    HI     231721.00       422287.0\n",
      "13    IA     577446.00      1503018.0\n",
      "14    ID     294633.00       552327.0\n",
      "15    IL    2007176.00      6910017.8\n",
      "16    IN    1160602.00      3644839.0\n",
      "17    KS     485625.00      1529122.0\n",
      "18    KY     857387.00      2723987.1\n",
      "19    LA     797069.00      2557490.3\n",
      "20    MA    1174969.00      4536808.0\n",
      "21    MD     881248.00      3895843.0\n",
      "22    ME     306728.00       671258.0\n",
      "23    MI    1926676.00      5419768.9\n",
      "24    MN     923747.00      1327646.7\n",
      "25    MO    1129912.00      3113438.0\n",
      "26    MS     565678.00      1825334.0\n",
      "27    MT     206080.00       423918.0\n",
      "28    NC    1823347.00      5694534.8\n",
      "29    ND     118011.00       320992.0\n",
      "30    NE     312343.00      1043195.0\n",
      "31    NH     258658.00       818603.0\n",
      "32    NJ    1422817.00      6615900.7\n",
      "33    NM     370629.00       705928.0\n",
      "34    NV     452921.00      1422497.3\n",
      "35    NY    3208508.00     11081508.5\n",
      "36    OH    2143757.00      5871589.6\n",
      "37    OK     669922.00      2317365.5\n",
      "38    OR     767980.00      1130661.0\n",
      "39    PA    2491524.00      7046679.7\n",
      "40    PR     633773.00       223525.0\n",
      "41    RI     192336.00       479622.0\n",
      "42    SC     973995.00      2930909.1\n",
      "43    SD     158039.00       401471.5\n",
      "44    TN    1248577.00      4052842.0\n",
      "45    TX    3668126.00     11769399.1\n",
      "46    UT     343823.00       751851.0\n",
      "47    VA    1326512.00      4648452.0\n",
      "48    VI      18155.00        25649.0\n",
      "49    VT     131108.00       304152.0\n",
      "50    WA    1196540.00      2571241.1\n",
      "51    WI    1074484.00      2176240.0\n",
      "52    WV     414555.00      1053569.5\n",
      "53    WY      97212.00       216437.5\n"
     ]
    }
   ],
   "source": [
    "print(df)"
   ]
  },
  {
   "cell_type": "code",
   "execution_count": 29,
   "metadata": {},
   "outputs": [],
   "source": [
    "numera <- df[,3]"
   ]
  },
  {
   "cell_type": "code",
   "execution_count": 30,
   "metadata": {},
   "outputs": [],
   "source": [
    "denom <- as.numeric(as.character(df[,2]))"
   ]
  },
  {
   "cell_type": "code",
   "execution_count": 31,
   "metadata": {},
   "outputs": [],
   "source": [
    "Rate=numera/denom*1000"
   ]
  },
  {
   "cell_type": "code",
   "execution_count": 32,
   "metadata": {},
   "outputs": [
    {
     "name": "stdout",
     "output_type": "stream",
     "text": [
      " [1] 2347.1487 2874.2849 3115.2357 2891.8448 2629.5513 2307.3251 3764.0626\n",
      " [8] 5368.6715 4203.8641 3551.7088 3121.6108 1822.3942 2602.8720 1874.6271\n",
      "[15] 3442.6566 3140.4728 3148.7712 3177.0800 3208.6185 3861.2151 4420.8248\n",
      "[22] 2188.4471 2813.0152 1437.2406 2755.4695 3226.8075 2057.0555 3123.1218\n",
      "[29] 2720.0176 3339.9020 3164.8084 4649.8606 1904.6756 3140.7184 3453.7886\n",
      "[36] 2738.9250 3459.1572 1472.2532 2828.2608  352.6894 2493.6673 3009.1624\n",
      "[43] 2540.3318 3245.9688 3208.5591 2186.7385 3504.2668 1412.7788 2319.8584\n",
      "[50] 2148.8969 2025.3815 2541.4469 2226.4484\n"
     ]
    }
   ],
   "source": [
    "print(Rate)"
   ]
  },
  {
   "cell_type": "code",
   "execution_count": 33,
   "metadata": {},
   "outputs": [],
   "source": [
    "df$Rate <- numera/denom*1000"
   ]
  },
  {
   "cell_type": "code",
   "execution_count": 34,
   "metadata": {},
   "outputs": [
    {
     "name": "stdout",
     "output_type": "stream",
     "text": [
      "   State Beneficiaries NumberServices      Rate\n",
      "1     AK      82927.00       194642.0 2347.1487\n",
      "2     AL     969116.00      2785515.5 2874.2849\n",
      "3     AR     593592.00      1849179.0 3115.2357\n",
      "4     AZ    1155335.00      3341049.5 2891.8448\n",
      "5     CA    5478663.00     14406425.5 2629.5513\n",
      "6     CO     789379.00      1821354.0 2307.3251\n",
      "7     CT     604883.00      2276817.5 3764.0626\n",
      "8     DC      76084.00       408470.0 5368.6715\n",
      "9     DE     184883.00       777223.0 4203.8641\n",
      "10    FL    4148415.00     14733962.0 3551.7088\n",
      "11    GA    1544616.00      4821690.0 3121.6108\n",
      "12    HI     231721.00       422287.0 1822.3942\n",
      "13    IA     577446.00      1503018.0 2602.8720\n",
      "14    ID     294633.00       552327.0 1874.6271\n",
      "15    IL    2007176.00      6910017.8 3442.6566\n",
      "16    IN    1160602.00      3644839.0 3140.4728\n",
      "17    KS     485625.00      1529122.0 3148.7712\n",
      "18    KY     857387.00      2723987.1 3177.0800\n",
      "19    LA     797069.00      2557490.3 3208.6185\n",
      "20    MA    1174969.00      4536808.0 3861.2151\n",
      "21    MD     881248.00      3895843.0 4420.8248\n",
      "22    ME     306728.00       671258.0 2188.4471\n",
      "23    MI    1926676.00      5419768.9 2813.0152\n",
      "24    MN     923747.00      1327646.7 1437.2406\n",
      "25    MO    1129912.00      3113438.0 2755.4695\n",
      "26    MS     565678.00      1825334.0 3226.8075\n",
      "27    MT     206080.00       423918.0 2057.0555\n",
      "28    NC    1823347.00      5694534.8 3123.1218\n",
      "29    ND     118011.00       320992.0 2720.0176\n",
      "30    NE     312343.00      1043195.0 3339.9020\n",
      "31    NH     258658.00       818603.0 3164.8084\n",
      "32    NJ    1422817.00      6615900.7 4649.8606\n",
      "33    NM     370629.00       705928.0 1904.6756\n",
      "34    NV     452921.00      1422497.3 3140.7184\n",
      "35    NY    3208508.00     11081508.5 3453.7886\n",
      "36    OH    2143757.00      5871589.6 2738.9250\n",
      "37    OK     669922.00      2317365.5 3459.1572\n",
      "38    OR     767980.00      1130661.0 1472.2532\n",
      "39    PA    2491524.00      7046679.7 2828.2608\n",
      "40    PR     633773.00       223525.0  352.6894\n",
      "41    RI     192336.00       479622.0 2493.6673\n",
      "42    SC     973995.00      2930909.1 3009.1624\n",
      "43    SD     158039.00       401471.5 2540.3318\n",
      "44    TN    1248577.00      4052842.0 3245.9688\n",
      "45    TX    3668126.00     11769399.1 3208.5591\n",
      "46    UT     343823.00       751851.0 2186.7385\n",
      "47    VA    1326512.00      4648452.0 3504.2668\n",
      "48    VI      18155.00        25649.0 1412.7788\n",
      "49    VT     131108.00       304152.0 2319.8584\n",
      "50    WA    1196540.00      2571241.1 2148.8969\n",
      "51    WI    1074484.00      2176240.0 2025.3815\n",
      "52    WV     414555.00      1053569.5 2541.4469\n",
      "53    WY      97212.00       216437.5 2226.4484\n"
     ]
    }
   ],
   "source": [
    "print(df)"
   ]
  },
  {
   "cell_type": "code",
   "execution_count": 35,
   "metadata": {},
   "outputs": [],
   "source": [
    "#delete DC, PR, VI states\n",
    "df <- df[-c(8, 40, 48),]"
   ]
  },
  {
   "cell_type": "code",
   "execution_count": 36,
   "metadata": {},
   "outputs": [
    {
     "name": "stdout",
     "output_type": "stream",
     "text": [
      "   State Beneficiaries NumberServices     Rate\n",
      "1     AK      82927.00       194642.0 2347.149\n",
      "2     AL     969116.00      2785515.5 2874.285\n",
      "3     AR     593592.00      1849179.0 3115.236\n",
      "4     AZ    1155335.00      3341049.5 2891.845\n",
      "5     CA    5478663.00     14406425.5 2629.551\n",
      "6     CO     789379.00      1821354.0 2307.325\n",
      "7     CT     604883.00      2276817.5 3764.063\n",
      "9     DE     184883.00       777223.0 4203.864\n",
      "10    FL    4148415.00     14733962.0 3551.709\n",
      "11    GA    1544616.00      4821690.0 3121.611\n",
      "12    HI     231721.00       422287.0 1822.394\n",
      "13    IA     577446.00      1503018.0 2602.872\n",
      "14    ID     294633.00       552327.0 1874.627\n",
      "15    IL    2007176.00      6910017.8 3442.657\n",
      "16    IN    1160602.00      3644839.0 3140.473\n",
      "17    KS     485625.00      1529122.0 3148.771\n",
      "18    KY     857387.00      2723987.1 3177.080\n",
      "19    LA     797069.00      2557490.3 3208.618\n",
      "20    MA    1174969.00      4536808.0 3861.215\n",
      "21    MD     881248.00      3895843.0 4420.825\n",
      "22    ME     306728.00       671258.0 2188.447\n",
      "23    MI    1926676.00      5419768.9 2813.015\n",
      "24    MN     923747.00      1327646.7 1437.241\n",
      "25    MO    1129912.00      3113438.0 2755.469\n",
      "26    MS     565678.00      1825334.0 3226.807\n",
      "27    MT     206080.00       423918.0 2057.056\n",
      "28    NC    1823347.00      5694534.8 3123.122\n",
      "29    ND     118011.00       320992.0 2720.018\n",
      "30    NE     312343.00      1043195.0 3339.902\n",
      "31    NH     258658.00       818603.0 3164.808\n",
      "32    NJ    1422817.00      6615900.7 4649.861\n",
      "33    NM     370629.00       705928.0 1904.676\n",
      "34    NV     452921.00      1422497.3 3140.718\n",
      "35    NY    3208508.00     11081508.5 3453.789\n",
      "36    OH    2143757.00      5871589.6 2738.925\n",
      "37    OK     669922.00      2317365.5 3459.157\n",
      "38    OR     767980.00      1130661.0 1472.253\n",
      "39    PA    2491524.00      7046679.7 2828.261\n",
      "41    RI     192336.00       479622.0 2493.667\n",
      "42    SC     973995.00      2930909.1 3009.162\n",
      "43    SD     158039.00       401471.5 2540.332\n",
      "44    TN    1248577.00      4052842.0 3245.969\n",
      "45    TX    3668126.00     11769399.1 3208.559\n",
      "46    UT     343823.00       751851.0 2186.739\n",
      "47    VA    1326512.00      4648452.0 3504.267\n",
      "49    VT     131108.00       304152.0 2319.858\n",
      "50    WA    1196540.00      2571241.1 2148.897\n",
      "51    WI    1074484.00      2176240.0 2025.381\n",
      "52    WV     414555.00      1053569.5 2541.447\n",
      "53    WY      97212.00       216437.5 2226.448\n"
     ]
    }
   ],
   "source": [
    "print(df)"
   ]
  },
  {
   "cell_type": "code",
   "execution_count": 46,
   "metadata": {},
   "outputs": [],
   "source": [
    "states <- map_data(\"state\")"
   ]
  },
  {
   "cell_type": "code",
   "execution_count": 47,
   "metadata": {},
   "outputs": [
    {
     "data": {
      "text/html": [
       "<ol class=list-inline>\n",
       "\t<li>15537</li>\n",
       "\t<li>6</li>\n",
       "</ol>\n"
      ],
      "text/latex": [
       "\\begin{enumerate*}\n",
       "\\item 15537\n",
       "\\item 6\n",
       "\\end{enumerate*}\n"
      ],
      "text/markdown": [
       "1. 15537\n",
       "2. 6\n",
       "\n",
       "\n"
      ],
      "text/plain": [
       "[1] 15537     6"
      ]
     },
     "metadata": {},
     "output_type": "display_data"
    }
   ],
   "source": [
    "dim(states)"
   ]
  },
  {
   "cell_type": "code",
   "execution_count": 48,
   "metadata": {},
   "outputs": [
    {
     "data": {
      "text/html": [
       "<table>\n",
       "<thead><tr><th scope=col>long</th><th scope=col>lat</th><th scope=col>group</th><th scope=col>order</th><th scope=col>region</th><th scope=col>subregion</th></tr></thead>\n",
       "<tbody>\n",
       "\t<tr><td>-87.46201</td><td>30.38968 </td><td>1        </td><td>1        </td><td>alabama  </td><td>NA       </td></tr>\n",
       "\t<tr><td>-87.48493</td><td>30.37249 </td><td>1        </td><td>2        </td><td>alabama  </td><td>NA       </td></tr>\n",
       "\t<tr><td>-87.52503</td><td>30.37249 </td><td>1        </td><td>3        </td><td>alabama  </td><td>NA       </td></tr>\n",
       "\t<tr><td>-87.53076</td><td>30.33239 </td><td>1        </td><td>4        </td><td>alabama  </td><td>NA       </td></tr>\n",
       "\t<tr><td>-87.57087</td><td>30.32665 </td><td>1        </td><td>5        </td><td>alabama  </td><td>NA       </td></tr>\n",
       "\t<tr><td>-87.58806</td><td>30.32665 </td><td>1        </td><td>6        </td><td>alabama  </td><td>NA       </td></tr>\n",
       "</tbody>\n",
       "</table>\n"
      ],
      "text/latex": [
       "\\begin{tabular}{r|llllll}\n",
       " long & lat & group & order & region & subregion\\\\\n",
       "\\hline\n",
       "\t -87.46201 & 30.38968  & 1         & 1         & alabama   & NA       \\\\\n",
       "\t -87.48493 & 30.37249  & 1         & 2         & alabama   & NA       \\\\\n",
       "\t -87.52503 & 30.37249  & 1         & 3         & alabama   & NA       \\\\\n",
       "\t -87.53076 & 30.33239  & 1         & 4         & alabama   & NA       \\\\\n",
       "\t -87.57087 & 30.32665  & 1         & 5         & alabama   & NA       \\\\\n",
       "\t -87.58806 & 30.32665  & 1         & 6         & alabama   & NA       \\\\\n",
       "\\end{tabular}\n"
      ],
      "text/markdown": [
       "\n",
       "| long | lat | group | order | region | subregion |\n",
       "|---|---|---|---|---|---|\n",
       "| -87.46201 | 30.38968  | 1         | 1         | alabama   | NA        |\n",
       "| -87.48493 | 30.37249  | 1         | 2         | alabama   | NA        |\n",
       "| -87.52503 | 30.37249  | 1         | 3         | alabama   | NA        |\n",
       "| -87.53076 | 30.33239  | 1         | 4         | alabama   | NA        |\n",
       "| -87.57087 | 30.32665  | 1         | 5         | alabama   | NA        |\n",
       "| -87.58806 | 30.32665  | 1         | 6         | alabama   | NA        |\n",
       "\n"
      ],
      "text/plain": [
       "  long      lat      group order region  subregion\n",
       "1 -87.46201 30.38968 1     1     alabama NA       \n",
       "2 -87.48493 30.37249 1     2     alabama NA       \n",
       "3 -87.52503 30.37249 1     3     alabama NA       \n",
       "4 -87.53076 30.33239 1     4     alabama NA       \n",
       "5 -87.57087 30.32665 1     5     alabama NA       \n",
       "6 -87.58806 30.32665 1     6     alabama NA       "
      ]
     },
     "metadata": {},
     "output_type": "display_data"
    }
   ],
   "source": [
    "head(states)"
   ]
  },
  {
   "cell_type": "code",
   "execution_count": 39,
   "metadata": {},
   "outputs": [],
   "source": [
    "#Match state name file (in abbreviation, to below formula)\n",
    "states <- setNames(as.list(datasets::state.name), datasets::state.abb)"
   ]
  },
  {
   "cell_type": "code",
   "execution_count": 40,
   "metadata": {},
   "outputs": [],
   "source": [
    "df$State <- setNames(as.list(datasets::state.name), datasets::state.abb)"
   ]
  },
  {
   "cell_type": "code",
   "execution_count": 41,
   "metadata": {},
   "outputs": [],
   "source": [
    "df$State <- tolower(df$State)"
   ]
  },
  {
   "cell_type": "code",
   "execution_count": 42,
   "metadata": {},
   "outputs": [
    {
     "name": "stdout",
     "output_type": "stream",
     "text": [
      "            State Beneficiaries NumberServices     Rate\n",
      "1         alabama      82927.00       194642.0 2347.149\n",
      "2          alaska     969116.00      2785515.5 2874.285\n",
      "3         arizona     593592.00      1849179.0 3115.236\n",
      "4        arkansas    1155335.00      3341049.5 2891.845\n",
      "5      california    5478663.00     14406425.5 2629.551\n",
      "6        colorado     789379.00      1821354.0 2307.325\n",
      "7     connecticut     604883.00      2276817.5 3764.063\n",
      "9        delaware     184883.00       777223.0 4203.864\n",
      "10        florida    4148415.00     14733962.0 3551.709\n",
      "11        georgia    1544616.00      4821690.0 3121.611\n",
      "12         hawaii     231721.00       422287.0 1822.394\n",
      "13          idaho     577446.00      1503018.0 2602.872\n",
      "14       illinois     294633.00       552327.0 1874.627\n",
      "15        indiana    2007176.00      6910017.8 3442.657\n",
      "16           iowa    1160602.00      3644839.0 3140.473\n",
      "17         kansas     485625.00      1529122.0 3148.771\n",
      "18       kentucky     857387.00      2723987.1 3177.080\n",
      "19      louisiana     797069.00      2557490.3 3208.618\n",
      "20          maine    1174969.00      4536808.0 3861.215\n",
      "21       maryland     881248.00      3895843.0 4420.825\n",
      "22  massachusetts     306728.00       671258.0 2188.447\n",
      "23       michigan    1926676.00      5419768.9 2813.015\n",
      "24      minnesota     923747.00      1327646.7 1437.241\n",
      "25    mississippi    1129912.00      3113438.0 2755.469\n",
      "26       missouri     565678.00      1825334.0 3226.807\n",
      "27        montana     206080.00       423918.0 2057.056\n",
      "28       nebraska    1823347.00      5694534.8 3123.122\n",
      "29         nevada     118011.00       320992.0 2720.018\n",
      "30  new hampshire     312343.00      1043195.0 3339.902\n",
      "31     new jersey     258658.00       818603.0 3164.808\n",
      "32     new mexico    1422817.00      6615900.7 4649.861\n",
      "33       new york     370629.00       705928.0 1904.676\n",
      "34 north carolina     452921.00      1422497.3 3140.718\n",
      "35   north dakota    3208508.00     11081508.5 3453.789\n",
      "36           ohio    2143757.00      5871589.6 2738.925\n",
      "37       oklahoma     669922.00      2317365.5 3459.157\n",
      "38         oregon     767980.00      1130661.0 1472.253\n",
      "39   pennsylvania    2491524.00      7046679.7 2828.261\n",
      "41   rhode island     192336.00       479622.0 2493.667\n",
      "42 south carolina     973995.00      2930909.1 3009.162\n",
      "43   south dakota     158039.00       401471.5 2540.332\n",
      "44      tennessee    1248577.00      4052842.0 3245.969\n",
      "45          texas    3668126.00     11769399.1 3208.559\n",
      "46           utah     343823.00       751851.0 2186.739\n",
      "47        vermont    1326512.00      4648452.0 3504.267\n",
      "49       virginia     131108.00       304152.0 2319.858\n",
      "50     washington    1196540.00      2571241.1 2148.897\n",
      "51  west virginia    1074484.00      2176240.0 2025.381\n",
      "52      wisconsin     414555.00      1053569.5 2541.447\n",
      "53        wyoming      97212.00       216437.5 2226.448\n"
     ]
    }
   ],
   "source": [
    "print(df)"
   ]
  },
  {
   "cell_type": "code",
   "execution_count": 49,
   "metadata": {},
   "outputs": [],
   "source": [
    "data <- merge(states, df, by.x='region', by.y='State')"
   ]
  },
  {
   "cell_type": "code",
   "execution_count": 50,
   "metadata": {},
   "outputs": [
    {
     "data": {
      "text/html": [
       "<table>\n",
       "<thead><tr><th scope=col>region</th><th scope=col>long</th><th scope=col>lat</th><th scope=col>group</th><th scope=col>order</th><th scope=col>subregion</th><th scope=col>Beneficiaries</th><th scope=col>NumberServices</th><th scope=col>Rate</th></tr></thead>\n",
       "<tbody>\n",
       "\t<tr><td>alabama  </td><td>-87.46201</td><td>30.38968 </td><td>1        </td><td> 1       </td><td>NA       </td><td>82927.00 </td><td>194642   </td><td>2347.149 </td></tr>\n",
       "\t<tr><td>alabama  </td><td>-87.48493</td><td>30.37249 </td><td>1        </td><td> 2       </td><td>NA       </td><td>82927.00 </td><td>194642   </td><td>2347.149 </td></tr>\n",
       "\t<tr><td>alabama  </td><td>-87.95475</td><td>30.24644 </td><td>1        </td><td>13       </td><td>NA       </td><td>82927.00 </td><td>194642   </td><td>2347.149 </td></tr>\n",
       "\t<tr><td>alabama  </td><td>-88.00632</td><td>30.24071 </td><td>1        </td><td>14       </td><td>NA       </td><td>82927.00 </td><td>194642   </td><td>2347.149 </td></tr>\n",
       "\t<tr><td>alabama  </td><td>-88.01778</td><td>30.25217 </td><td>1        </td><td>15       </td><td>NA       </td><td>82927.00 </td><td>194642   </td><td>2347.149 </td></tr>\n",
       "\t<tr><td>alabama  </td><td>-87.52503</td><td>30.37249 </td><td>1        </td><td> 3       </td><td>NA       </td><td>82927.00 </td><td>194642   </td><td>2347.149 </td></tr>\n",
       "</tbody>\n",
       "</table>\n"
      ],
      "text/latex": [
       "\\begin{tabular}{r|lllllllll}\n",
       " region & long & lat & group & order & subregion & Beneficiaries & NumberServices & Rate\\\\\n",
       "\\hline\n",
       "\t alabama   & -87.46201 & 30.38968  & 1         &  1        & NA        & 82927.00  & 194642    & 2347.149 \\\\\n",
       "\t alabama   & -87.48493 & 30.37249  & 1         &  2        & NA        & 82927.00  & 194642    & 2347.149 \\\\\n",
       "\t alabama   & -87.95475 & 30.24644  & 1         & 13        & NA        & 82927.00  & 194642    & 2347.149 \\\\\n",
       "\t alabama   & -88.00632 & 30.24071  & 1         & 14        & NA        & 82927.00  & 194642    & 2347.149 \\\\\n",
       "\t alabama   & -88.01778 & 30.25217  & 1         & 15        & NA        & 82927.00  & 194642    & 2347.149 \\\\\n",
       "\t alabama   & -87.52503 & 30.37249  & 1         &  3        & NA        & 82927.00  & 194642    & 2347.149 \\\\\n",
       "\\end{tabular}\n"
      ],
      "text/markdown": [
       "\n",
       "| region | long | lat | group | order | subregion | Beneficiaries | NumberServices | Rate |\n",
       "|---|---|---|---|---|---|---|---|---|\n",
       "| alabama   | -87.46201 | 30.38968  | 1         |  1        | NA        | 82927.00  | 194642    | 2347.149  |\n",
       "| alabama   | -87.48493 | 30.37249  | 1         |  2        | NA        | 82927.00  | 194642    | 2347.149  |\n",
       "| alabama   | -87.95475 | 30.24644  | 1         | 13        | NA        | 82927.00  | 194642    | 2347.149  |\n",
       "| alabama   | -88.00632 | 30.24071  | 1         | 14        | NA        | 82927.00  | 194642    | 2347.149  |\n",
       "| alabama   | -88.01778 | 30.25217  | 1         | 15        | NA        | 82927.00  | 194642    | 2347.149  |\n",
       "| alabama   | -87.52503 | 30.37249  | 1         |  3        | NA        | 82927.00  | 194642    | 2347.149  |\n",
       "\n"
      ],
      "text/plain": [
       "  region  long      lat      group order subregion Beneficiaries NumberServices\n",
       "1 alabama -87.46201 30.38968 1      1    NA        82927.00      194642        \n",
       "2 alabama -87.48493 30.37249 1      2    NA        82927.00      194642        \n",
       "3 alabama -87.95475 30.24644 1     13    NA        82927.00      194642        \n",
       "4 alabama -88.00632 30.24071 1     14    NA        82927.00      194642        \n",
       "5 alabama -88.01778 30.25217 1     15    NA        82927.00      194642        \n",
       "6 alabama -87.52503 30.37249 1      3    NA        82927.00      194642        \n",
       "  Rate    \n",
       "1 2347.149\n",
       "2 2347.149\n",
       "3 2347.149\n",
       "4 2347.149\n",
       "5 2347.149\n",
       "6 2347.149"
      ]
     },
     "metadata": {},
     "output_type": "display_data"
    }
   ],
   "source": [
    "head(data)"
   ]
  },
  {
   "cell_type": "code",
   "execution_count": 51,
   "metadata": {},
   "outputs": [],
   "source": [
    "data$Beneficiaries <- as.numeric(as.character(data$Beneficiaries))"
   ]
  },
  {
   "cell_type": "code",
   "execution_count": 52,
   "metadata": {},
   "outputs": [
    {
     "data": {
      "text/html": [
       "<table>\n",
       "<thead><tr><th scope=col>region</th><th scope=col>long</th><th scope=col>lat</th><th scope=col>group</th><th scope=col>order</th><th scope=col>subregion</th><th scope=col>Beneficiaries</th><th scope=col>NumberServices</th><th scope=col>Rate</th></tr></thead>\n",
       "<tbody>\n",
       "\t<tr><td>alabama  </td><td>-87.46201</td><td>30.38968 </td><td>1        </td><td> 1       </td><td>NA       </td><td>82927    </td><td>194642   </td><td>2347.149 </td></tr>\n",
       "\t<tr><td>alabama  </td><td>-87.48493</td><td>30.37249 </td><td>1        </td><td> 2       </td><td>NA       </td><td>82927    </td><td>194642   </td><td>2347.149 </td></tr>\n",
       "\t<tr><td>alabama  </td><td>-87.95475</td><td>30.24644 </td><td>1        </td><td>13       </td><td>NA       </td><td>82927    </td><td>194642   </td><td>2347.149 </td></tr>\n",
       "\t<tr><td>alabama  </td><td>-88.00632</td><td>30.24071 </td><td>1        </td><td>14       </td><td>NA       </td><td>82927    </td><td>194642   </td><td>2347.149 </td></tr>\n",
       "\t<tr><td>alabama  </td><td>-88.01778</td><td>30.25217 </td><td>1        </td><td>15       </td><td>NA       </td><td>82927    </td><td>194642   </td><td>2347.149 </td></tr>\n",
       "\t<tr><td>alabama  </td><td>-87.52503</td><td>30.37249 </td><td>1        </td><td> 3       </td><td>NA       </td><td>82927    </td><td>194642   </td><td>2347.149 </td></tr>\n",
       "</tbody>\n",
       "</table>\n"
      ],
      "text/latex": [
       "\\begin{tabular}{r|lllllllll}\n",
       " region & long & lat & group & order & subregion & Beneficiaries & NumberServices & Rate\\\\\n",
       "\\hline\n",
       "\t alabama   & -87.46201 & 30.38968  & 1         &  1        & NA        & 82927     & 194642    & 2347.149 \\\\\n",
       "\t alabama   & -87.48493 & 30.37249  & 1         &  2        & NA        & 82927     & 194642    & 2347.149 \\\\\n",
       "\t alabama   & -87.95475 & 30.24644  & 1         & 13        & NA        & 82927     & 194642    & 2347.149 \\\\\n",
       "\t alabama   & -88.00632 & 30.24071  & 1         & 14        & NA        & 82927     & 194642    & 2347.149 \\\\\n",
       "\t alabama   & -88.01778 & 30.25217  & 1         & 15        & NA        & 82927     & 194642    & 2347.149 \\\\\n",
       "\t alabama   & -87.52503 & 30.37249  & 1         &  3        & NA        & 82927     & 194642    & 2347.149 \\\\\n",
       "\\end{tabular}\n"
      ],
      "text/markdown": [
       "\n",
       "| region | long | lat | group | order | subregion | Beneficiaries | NumberServices | Rate |\n",
       "|---|---|---|---|---|---|---|---|---|\n",
       "| alabama   | -87.46201 | 30.38968  | 1         |  1        | NA        | 82927     | 194642    | 2347.149  |\n",
       "| alabama   | -87.48493 | 30.37249  | 1         |  2        | NA        | 82927     | 194642    | 2347.149  |\n",
       "| alabama   | -87.95475 | 30.24644  | 1         | 13        | NA        | 82927     | 194642    | 2347.149  |\n",
       "| alabama   | -88.00632 | 30.24071  | 1         | 14        | NA        | 82927     | 194642    | 2347.149  |\n",
       "| alabama   | -88.01778 | 30.25217  | 1         | 15        | NA        | 82927     | 194642    | 2347.149  |\n",
       "| alabama   | -87.52503 | 30.37249  | 1         |  3        | NA        | 82927     | 194642    | 2347.149  |\n",
       "\n"
      ],
      "text/plain": [
       "  region  long      lat      group order subregion Beneficiaries NumberServices\n",
       "1 alabama -87.46201 30.38968 1      1    NA        82927         194642        \n",
       "2 alabama -87.48493 30.37249 1      2    NA        82927         194642        \n",
       "3 alabama -87.95475 30.24644 1     13    NA        82927         194642        \n",
       "4 alabama -88.00632 30.24071 1     14    NA        82927         194642        \n",
       "5 alabama -88.01778 30.25217 1     15    NA        82927         194642        \n",
       "6 alabama -87.52503 30.37249 1      3    NA        82927         194642        \n",
       "  Rate    \n",
       "1 2347.149\n",
       "2 2347.149\n",
       "3 2347.149\n",
       "4 2347.149\n",
       "5 2347.149\n",
       "6 2347.149"
      ]
     },
     "metadata": {},
     "output_type": "display_data"
    }
   ],
   "source": [
    "head(data)"
   ]
  },
  {
   "cell_type": "code",
   "execution_count": 56,
   "metadata": {},
   "outputs": [
    {
     "data": {
      "image/png": "[encoded data removed]",
      "text/plain": [
       "plot without title"
      ]
     },
     "metadata": {},
     "output_type": "display_data"
    }
   ],
   "source": [
    "ggplot(data, aes(x=long, y=lat, group=group, fill=Rate)) + \n",
    "geom_polygon(color='gray') + coord_fixed(1.6) + scale_fill_gradient(low='white',\n",
    "  high='red', trans = \"log10\") +\n",
    "theme_void() +\n",
    "ggtitle('Rate of Telemedicine use per 1000 beneficiaries - All')"
   ]
  },
  {
   "cell_type": "code",
   "execution_count": null,
   "metadata": {},
   "outputs": [],
   "source": []
  }
 ],
 "metadata": {
  "kernelspec": {
   "display_name": "R",
   "language": "R",
   "name": "ir"
  },
  "language_info": {
   "codemirror_mode": "r",
   "file_extension": ".r",
   "mimetype": "text/x-r-source",
   "name": "R",
   "pygments_lexer": "r",
   "version": "3.6.1"
  }
 },
 "nbformat": 4,
 "nbformat_minor": 4
}
